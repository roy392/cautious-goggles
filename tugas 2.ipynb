{
  "nbformat": 4,
  "nbformat_minor": 0,
  "metadata": {
    "colab": {
      "name": "Untitled2.ipynb",
      "provenance": [],
      "collapsed_sections": [],
      "authorship_tag": "ABX9TyN5ljQEQCz4U4DrBzAB0uMc",
      "include_colab_link": true
    },
    "kernelspec": {
      "name": "python3",
      "display_name": "Python 3"
    },
    "language_info": {
      "name": "python"
    }
  },
  "cells": [
    {
      "cell_type": "markdown",
      "metadata": {
        "id": "view-in-github",
        "colab_type": "text"
      },
      "source": [
        "<a href=\"https://colab.research.google.com/github/roy392/cautious-goggles/blob/main/tugas%202.ipynb\" target=\"_parent\"><img src=\"https://colab.research.google.com/assets/colab-badge.svg\" alt=\"Open In Colab\"/></a>"
      ]
    },
    {
      "cell_type": "code",
      "execution_count": 2,
      "metadata": {
        "id": "sRkQ7jr2BkVa"
      },
      "outputs": [],
      "source": [
        "def konversi_nilai(nilai):\n",
        "    \"\"\"menerima input berupa float 0 <= nilai <= 100 (antara 0 sampai 100)\n",
        "    return \"A\" jika nilai > 80, \"B\" jika 50 < nilai <= 80, \"E\" selainnya.\n",
        "    \"\"\"\n",
        "\n",
        "    if nilai >= 80:\n",
        "        return \"A\"\n",
        "    elif nilai >= 50:\n",
        "        return \"B\"\n",
        "    else:\n",
        "        return \"E\""
      ]
    },
    {
      "cell_type": "code",
      "source": [
        "print(\"Test case 1:\", konversi_nilai(80) == \"B\")\n",
        "print(\"Test case 2:\", konversi_nilai(80.01) == \"A\")\n",
        "print(\"Test case 3:\", konversi_nilai(50) == \"E\")\n",
        "print(\"Test case 4:\", konversi_nilai(50.01) == \"B\")\n",
        "print(\"Test case 5:\", konversi_nilai(100) == \"A\")\n",
        "print(\"Test case 6:\", konversi_nilai(0) == \"E\")\n",
        "try:\n",
        "    r = konversi_nilai(100.01)\n",
        "    print(\"Test case 7: False\")\n",
        "except:\n",
        "    print(\"Test case 7: True\")\n",
        "try:\n",
        "    r = konversi_nilai(-1)\n",
        "    print(\"Test case 8: False\")\n",
        "except:\n",
        "    print(\"Test case 8: True\")"
      ],
      "metadata": {
        "colab": {
          "base_uri": "https://localhost:8080/"
        },
        "id": "xHp0A7ehMFKO",
        "outputId": "1fa787c9-6a9e-488b-f294-193740a4a718"
      },
      "execution_count": 3,
      "outputs": [
        {
          "output_type": "stream",
          "name": "stdout",
          "text": [
            "Test case 1: False\n",
            "Test case 2: True\n",
            "Test case 3: False\n",
            "Test case 4: True\n",
            "Test case 5: True\n",
            "Test case 6: True\n",
            "Test case 7: False\n",
            "Test case 8: False\n"
          ]
        }
      ]
    },
    {
      "cell_type": "code",
      "source": [
        "def konversi_nilai(nilai):\n",
        "    \"\"\"menerima input berupa float 0 <= nilai <= 100 (antara 0 sampai 100)\n",
        "    return \"A\" jika nilai > 80, \"B\" jika 50 < nilai <= 80, \"E\" selainnya.\n",
        "    \"\"\"\n",
        "\n",
        "    assert 0 <= nilai and nilai <= 100, \"nilai harus antara 0 sampai 100\"\n",
        "\n",
        "    if nilai > 80:\n",
        "        return \"A\"\n",
        "    elif nilai > 50:\n",
        "        return \"B\"\n",
        "    else:\n",
        "        return \"E\"\n",
        "print(\"Test case 1:\", konversi_nilai(80) == \"B\")\n",
        "print(\"Test case 2:\", konversi_nilai(80.01) == \"A\")\n",
        "print(\"Test case 3:\", konversi_nilai(50) == \"E\")\n",
        "print(\"Test case 4:\", konversi_nilai(50.01) == \"B\")\n",
        "print(\"Test case 5:\", konversi_nilai(100) == \"A\")\n",
        "print(\"Test case 6:\", konversi_nilai(0) == \"E\")\n",
        "try:\n",
        "    r = konversi_nilai(100.01)\n",
        "    print(\"Test case 7: False\")\n",
        "except:\n",
        "    print(\"Test case 7: True\")\n",
        "try:\n",
        "    r = konversi_nilai(-1)\n",
        "    print(\"Test case 8: False\")\n",
        "except:\n",
        "    print(\"Test case 8: True\")"
      ],
      "metadata": {
        "colab": {
          "base_uri": "https://localhost:8080/"
        },
        "id": "rPtPpt5cMWc3",
        "outputId": "f559fb0e-2265-43b5-d6fe-d27cdc37ff32"
      },
      "execution_count": 4,
      "outputs": [
        {
          "output_type": "stream",
          "name": "stdout",
          "text": [
            "Test case 1: True\n",
            "Test case 2: True\n",
            "Test case 3: True\n",
            "Test case 4: True\n",
            "Test case 5: True\n",
            "Test case 6: True\n",
            "Test case 7: True\n",
            "Test case 8: True\n"
          ]
        }
      ]
    },
    {
      "cell_type": "code",
      "source": [
        "def test_konversi_nilai():\n",
        "    print(\"Test case 1:\", konversi_nilai(80) == \"B\")\n",
        "    print(\"Test case 2:\", konversi_nilai(80.01) == \"A\")\n",
        "    print(\"Test case 3:\", konversi_nilai(50) == \"E\")\n",
        "    print(\"Test case 4:\", konversi_nilai(50.01) == \"B\")\n",
        "    print(\"Test case 5:\", konversi_nilai(100) == \"A\")\n",
        "    print(\"Test case 6:\", konversi_nilai(0) == \"E\")\n",
        "    try:\n",
        "        r = konversi_nilai(100.01)\n",
        "        print(\"Test case 7: False\")\n",
        "    except:\n",
        "        print(\"Test case 7: True\")\n",
        "    try:\n",
        "        r = konversi_nilai(-1)\n",
        "        print(\"Test case 8: False\")\n",
        "    except:\n",
        "        print(\"Test case 8: True\")\n",
        "\n",
        "print('Pengujian fungsi konversi_nilai')\n",
        "test_konversi_nilai()\n",
        "print('Pengujian selesai')"
      ],
      "metadata": {
        "colab": {
          "base_uri": "https://localhost:8080/"
        },
        "id": "e5qyHQ4lMg4h",
        "outputId": "414dbc29-4842-44cd-a64f-69d29ed74ef9"
      },
      "execution_count": 6,
      "outputs": [
        {
          "output_type": "stream",
          "name": "stdout",
          "text": [
            "Pengujian fungsi konversi_nilai\n",
            "Test case 1: True\n",
            "Test case 2: True\n",
            "Test case 3: True\n",
            "Test case 4: True\n",
            "Test case 5: True\n",
            "Test case 6: True\n",
            "Test case 7: True\n",
            "Test case 8: True\n",
            "Pengujian selesai\n"
          ]
        }
      ]
    }
  ]
}