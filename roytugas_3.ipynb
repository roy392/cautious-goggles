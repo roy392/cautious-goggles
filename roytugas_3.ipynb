{
  "nbformat": 4,
  "nbformat_minor": 0,
  "metadata": {
    "colab": {
      "name": "roytugas 3.ipynb",
      "provenance": [],
      "collapsed_sections": [],
      "authorship_tag": "ABX9TyOdarkO5ypwQCnlKewIToqn",
      "include_colab_link": true
    },
    "kernelspec": {
      "name": "python3",
      "display_name": "Python 3"
    },
    "language_info": {
      "name": "python"
    }
  },
  "cells": [
    {
      "cell_type": "markdown",
      "metadata": {
        "id": "view-in-github",
        "colab_type": "text"
      },
      "source": [
        "<a href=\"https://colab.research.google.com/github/roy392/cautious-goggles/blob/main/roytugas_3.ipynb\" target=\"_parent\"><img src=\"https://colab.research.google.com/assets/colab-badge.svg\" alt=\"Open In Colab\"/></a>"
      ]
    },
    {
      "cell_type": "code",
      "execution_count": 1,
      "metadata": {
        "colab": {
          "base_uri": "https://localhost:8080/"
        },
        "id": "BFAo4uU6b-cq",
        "outputId": "79e465e3-9a88-423f-cd25-599817da296c"
      },
      "outputs": [
        {
          "output_type": "stream",
          "name": "stdout",
          "text": [
            "Happy Birthday to you!\n",
            "Happy Birthday to you!\n",
            "Happy Birthday, dear kartik.\n",
            "Happy Birthday to you!\n"
          ]
        }
      ],
      "source": [
        "print(\"Happy Birthday to you!\")\n",
        "print(\"Happy Birthday to you!\")\n",
        "print(\"Happy Birthday, dear kartik.\")\n",
        "print(\"Happy Birthday to you!\")"
      ]
    },
    {
      "cell_type": "code",
      "source": [
        "def happy_birthday_to_kartik():\n",
        "  \n",
        "    print(\"Happy Birthday to you!\")\n",
        "    print(\"Happy Birthday to you!\")\n",
        "    print(\"Happy Birthday, dear kartik.\")\n",
        "    print(\"Happy Birthday to you!\")"
      ],
      "metadata": {
        "id": "XARtYJ7vcSso"
      },
      "execution_count": 3,
      "outputs": []
    },
    {
      "cell_type": "code",
      "source": [
        "def happy_birthday_to_kartik():\n",
        "  \n",
        "    print(\"Happy Birthday to you!\")\n",
        "    print(\"Happy Birthday to you!\")\n",
        "    print(\"Happy Birthday, dear kartik.\")\n",
        "    print(\"Happy Birthday to you!\")\n",
        "    print('Function call 1')\n",
        "happy_birthday_to_kartik()\n",
        "print() \n",
        "print('Function call 2')\n",
        "happy_birthday_to_kartik()\n",
        "print()\n",
        "print('Function call 3')\n",
        "happy_birthday_to_kartik()\n",
        "print()\n",
        "# This will not call the function\n",
        "print('This is not a function call')\n",
        "happy_birthday_to_kartik"
      ],
      "metadata": {
        "colab": {
          "base_uri": "https://localhost:8080/"
        },
        "id": "TxIF4O_KdAbk",
        "outputId": "5c36ebcf-f738-423f-9794-c58755268086"
      },
      "execution_count": 4,
      "outputs": [
        {
          "output_type": "stream",
          "name": "stdout",
          "text": [
            "Happy Birthday to you!\n",
            "Happy Birthday to you!\n",
            "Happy Birthday, dear kartik.\n",
            "Happy Birthday to you!\n",
            "Function call 1\n",
            "\n",
            "Function call 2\n",
            "Happy Birthday to you!\n",
            "Happy Birthday to you!\n",
            "Happy Birthday, dear kartik.\n",
            "Happy Birthday to you!\n",
            "Function call 1\n",
            "\n",
            "Function call 3\n",
            "Happy Birthday to you!\n",
            "Happy Birthday to you!\n",
            "Happy Birthday, dear kartik.\n",
            "Happy Birthday to you!\n",
            "Function call 1\n",
            "\n",
            "This is not a function call\n"
          ]
        },
        {
          "output_type": "execute_result",
          "data": {
            "text/plain": [
              "<function __main__.happy_birthday_to_kartik>"
            ]
          },
          "metadata": {},
          "execution_count": 4
        }
      ]
    },
    {
      "cell_type": "code",
      "source": [
        "def new_line():\n",
        "    print()\n",
        "def two_new_lines():\n",
        "    new_line()\n",
        "    new_line()\n",
        "print(\"Printing a single line...\")\n",
        "new_line()\n",
        "print(\"Printing two lines...\")\n",
        "two_new_lines()\n",
        "print(\"Printed two lines\")"
      ],
      "metadata": {
        "colab": {
          "base_uri": "https://localhost:8080/"
        },
        "id": "dazOlaYIeyRu",
        "outputId": "67aff2fa-3e4d-413f-ec97-81a72f0b3484"
      },
      "execution_count": 5,
      "outputs": [
        {
          "output_type": "stream",
          "name": "stdout",
          "text": [
            "Printing a single line...\n",
            "\n",
            "Printing two lines...\n",
            "\n",
            "\n",
            "Printed two lines\n"
          ]
        }
      ]
    },
    {
      "cell_type": "code",
      "source": [
        "def happy_birthday(name):\n",
        "    print(\"Happy Birthday to you!\")\n",
        "    print(\"Happy Birthday to you!\")\n",
        "    print(f\"Happy Birthday, dear {name}.\")\n",
        "    print(\"Happy Birthday to you!\")\n",
        "happy_birthday(\"kartik\")\n",
        "my_name=\"kartik\"\n",
        "happy_birthday(my_name)"
      ],
      "metadata": {
        "colab": {
          "base_uri": "https://localhost:8080/"
        },
        "id": "KT20BWswfVN2",
        "outputId": "f826fccd-a57d-4842-fcd8-49f66d0848fc"
      },
      "execution_count": 9,
      "outputs": [
        {
          "output_type": "stream",
          "name": "stdout",
          "text": [
            "Happy Birthday to you!\n",
            "Happy Birthday to you!\n",
            "Happy Birthday, dear kartik.\n",
            "Happy Birthday to you!\n",
            "Happy Birthday to you!\n",
            "Happy Birthday to you!\n",
            "Happy Birthday, dear kartik.\n",
            "Happy Birthday to you!\n"
          ]
        }
      ]
    },
    {
      "cell_type": "code",
      "source": [
        "def multiply(x, y):\n",
        "\n",
        "    result = x * y\n",
        "    print(result)\n",
        "    \n",
        "multiply(2020,5278238)\n",
        "multiply(2,3)"
      ],
      "metadata": {
        "colab": {
          "base_uri": "https://localhost:8080/"
        },
        "id": "hydgnmohhL9J",
        "outputId": "71f688c4-8093-4271-8c8f-70002789e26f"
      },
      "execution_count": 11,
      "outputs": [
        {
          "output_type": "stream",
          "name": "stdout",
          "text": [
            "10662040760\n",
            "6\n"
          ]
        }
      ]
    },
    {
      "cell_type": "code",
      "source": [
        "def multiply(x, y, third_number=1):\n",
        "\n",
        "    result=x*y*third_number\n",
        "    print(result)\n",
        "\n",
        "multiply(2,3) \n",
        "multiply(2,3,third_number=4) "
      ],
      "metadata": {
        "colab": {
          "base_uri": "https://localhost:8080/"
        },
        "id": "01wbO8mKhbah",
        "outputId": "38ca03b5-0cfd-42cc-8c49-dd3f2b2109c7"
      },
      "execution_count": 13,
      "outputs": [
        {
          "output_type": "stream",
          "name": "stdout",
          "text": [
            "6\n",
            "24\n"
          ]
        }
      ]
    },
    {
      "cell_type": "code",
      "source": [
        "def multiply(x, y):\n",
        "\n",
        "    multiplied = x * y\n",
        "    return multiplied\n",
        "\n",
        "result = multiply(2, 5)\n",
        "print(result)\n",
        "multiply(30,20)"
      ],
      "metadata": {
        "colab": {
          "base_uri": "https://localhost:8080/"
        },
        "id": "RaUUJh-yiSb1",
        "outputId": "d5d7d116-3fc1-4027-b506-8a0ec9adfb71"
      },
      "execution_count": 14,
      "outputs": [
        {
          "output_type": "stream",
          "name": "stdout",
          "text": [
            "10\n"
          ]
        },
        {
          "output_type": "execute_result",
          "data": {
            "text/plain": [
              "600"
            ]
          },
          "metadata": {},
          "execution_count": 14
        }
      ]
    },
    {
      "cell_type": "code",
      "source": [
        "def calculate(x,y):\n",
        "    product = x * y\n",
        "    summed = x + y\n",
        "\n",
        "    return product, summed\n",
        "\n",
        "var1, var2 = calculate(10,5)\n",
        "print(\"product:\",var1,\"sum:\",var2)"
      ],
      "metadata": {
        "colab": {
          "base_uri": "https://localhost:8080/"
        },
        "id": "OfWH05L8icUD",
        "outputId": "3713e267-d02e-4ae6-c526-a1c7345813d2"
      },
      "execution_count": 15,
      "outputs": [
        {
          "output_type": "stream",
          "name": "stdout",
          "text": [
            "product: 50 sum: 15\n"
          ]
        }
      ]
    },
    {
      "cell_type": "code",
      "source": [
        "double = lambda x: x * 2\n",
        "print(double(6))"
      ],
      "metadata": {
        "colab": {
          "base_uri": "https://localhost:8080/"
        },
        "id": "1FaKYvARi1dj",
        "outputId": "cda4fa8c-3eea-4ca5-bde2-0bab5f172f04"
      },
      "execution_count": 16,
      "outputs": [
        {
          "output_type": "stream",
          "name": "stdout",
          "text": [
            "12\n"
          ]
        }
      ]
    },
    {
      "cell_type": "code",
      "source": [
        "my_list = [1, 5, 4, 6, 8, 11, 3, 12] \n",
        "new_list = list(filter(lambda x: (x%2 == 0), my_list)) \n",
        "print(\"Even numbers are: \", new_list)"
      ],
      "metadata": {
        "colab": {
          "base_uri": "https://localhost:8080/"
        },
        "id": "QjjKHGCii-zi",
        "outputId": "04ce9105-b75f-4905-c9f0-2bedbcd41211"
      },
      "execution_count": 17,
      "outputs": [
        {
          "output_type": "stream",
          "name": "stdout",
          "text": [
            "Even numbers are:  [4, 6, 8, 12]\n"
          ]
        }
      ]
    },
    {
      "cell_type": "code",
      "source": [
        "my_list = [1, 5, 4, 6, 8, 11, 3, 12] \n",
        "new_list = list(map(lambda x: x * 2, my_list)) \n",
        "print(\"Double values are: \", new_list)"
      ],
      "metadata": {
        "colab": {
          "base_uri": "https://localhost:8080/"
        },
        "id": "stb3KBkJjMNv",
        "outputId": "c4205a7c-a9bf-46fd-e66a-f7ad20c8c1e5"
      },
      "execution_count": 18,
      "outputs": [
        {
          "output_type": "stream",
          "name": "stdout",
          "text": [
            "Double values are:  [2, 10, 8, 12, 16, 22, 6, 24]\n"
          ]
        }
      ]
    },
    {
      "cell_type": "code",
      "source": [
        "from functools import reduce\n",
        "list1 = [20, 13, 4, 8, 9]\n",
        "add = reduce(lambda x, y: x+y, list1)\n",
        "print(\"Addition of all list elements is : \", add)"
      ],
      "metadata": {
        "colab": {
          "base_uri": "https://localhost:8080/"
        },
        "id": "FKMT37CojZgS",
        "outputId": "6fbdd934-9bc5-4e14-cae0-40c2ee3effb5"
      },
      "execution_count": 19,
      "outputs": [
        {
          "output_type": "stream",
          "name": "stdout",
          "text": [
            "Addition of all list elements is :  54\n"
          ]
        }
      ]
    },
    {
      "cell_type": "code",
      "source": [
        "\n",
        "class Student:\n",
        "\n",
        "      def learn(self):\n",
        "          print(\"Selamat datang dikelas Programer orbit\")\n",
        "    \n",
        "stud = Student()\n",
        "stud.learn()"
      ],
      "metadata": {
        "colab": {
          "base_uri": "https://localhost:8080/"
        },
        "id": "pR7kGgUGjvOa",
        "outputId": "627455bd-12a6-493e-b870-fe39f1c405e8"
      },
      "execution_count": 30,
      "outputs": [
        {
          "output_type": "stream",
          "name": "stdout",
          "text": [
            "Selamat datang dikelas Programer orbit\n"
          ]
        }
      ]
    },
    {
      "cell_type": "code",
      "source": [
        "class Person:\n",
        "\n",
        "      def __init__ (self, name):\n",
        "            self.name =name\n",
        "            \n",
        "p = Person('Milaan')\n",
        "print(p.name)\n",
        "print(p)"
      ],
      "metadata": {
        "colab": {
          "base_uri": "https://localhost:8080/"
        },
        "id": "fpJUE4_clZfX",
        "outputId": "9ee41648-d47f-4d76-f5a0-d7b3dc07b8e5"
      },
      "execution_count": 31,
      "outputs": [
        {
          "output_type": "stream",
          "name": "stdout",
          "text": [
            "Milaan\n",
            "<__main__.Person object at 0x7f95c3293050>\n"
          ]
        }
      ]
    },
    {
      "cell_type": "code",
      "source": [
        "class Person:\n",
        "      def __init__(self, firstname, lastname, age, country, city):\n",
        "                self.firstname = firstname\n",
        "                self.lastname = lastname\n",
        "                self.age = age\n",
        "                self.country = country\n",
        "                self.city = city\n",
        "\n",
        "p = Person('BEKASI', 'roy', 26, 'Jakarta', 'jawa barat')\n",
        "print(p.firstname)\n",
        "print(p.lastname)\n",
        "print(p.age)\n",
        "print(p.country)\n",
        "print(p.city)"
      ],
      "metadata": {
        "colab": {
          "base_uri": "https://localhost:8080/"
        },
        "id": "M1Zi3_-XlqMT",
        "outputId": "3a0f521f-e9d0-4e69-d349-88faf9d6e987"
      },
      "execution_count": 32,
      "outputs": [
        {
          "output_type": "stream",
          "name": "stdout",
          "text": [
            "BEKASI\n",
            "roy\n",
            "26\n",
            "Jakarta\n",
            "jawa barat\n"
          ]
        }
      ]
    },
    {
      "cell_type": "code",
      "source": [
        "class Student:\n",
        "        def __init__(self, name, percentage):\n",
        "                self.name = name\n",
        "                self.percentage = percentage\n",
        "        def show(self):\n",
        "            print(\"Name is:\", self.name, \"and percentage is:\",\n",
        "            self.percentage)\n",
        "\n",
        "stud = Student(\"rian\", 29)\n",
        "stud.show()"
      ],
      "metadata": {
        "colab": {
          "base_uri": "https://localhost:8080/"
        },
        "id": "V0a6J3w3mQcz",
        "outputId": "a36c51e0-c36b-4e8a-df8d-27a2ed633e56"
      },
      "execution_count": 33,
      "outputs": [
        {
          "output_type": "stream",
          "name": "stdout",
          "text": [
            "Name is: rian and percentage is: 29\n"
          ]
        }
      ]
    },
    {
      "cell_type": "code",
      "source": [
        "class Parrot:\n",
        "      species = \"bird\" \n",
        "      def __init__(self, name, age): \n",
        "                  self.name = name\n",
        "                  self.age = age\n",
        "\n",
        "red = Parrot(\"red\", 10)\n",
        "woo = Parrot(\"Woo\", 15)\n",
        "\n",
        "print(\"red is a {}\".format(red.__class__.species))\n",
        "print(\"Woo is also a {}\".format(woo.__class__.species))\n",
        "\n",
        "print(\"{} is {} years old\".format( red.name, blu.age))\n",
        "print(\"{} is {} years old\".format( woo.name, woo.age))"
      ],
      "metadata": {
        "colab": {
          "base_uri": "https://localhost:8080/"
        },
        "id": "llulPegYmgmn",
        "outputId": "b3d324a5-b3e0-4284-a938-42e311cdbf52"
      },
      "execution_count": 37,
      "outputs": [
        {
          "output_type": "stream",
          "name": "stdout",
          "text": [
            "red is a bird\n",
            "Woo is also a bird\n",
            "red is 10 years old\n",
            "Woo is 15 years old\n"
          ]
        }
      ]
    },
    {
      "cell_type": "code",
      "source": [
        "class Person:\n",
        "        def __init__(self, firstname, lastname, age, country, city):\n",
        "                    self.firstname = firstname\n",
        "                    self.lastname = lastname\n",
        "                    self.age = age\n",
        "                    self.country = country\n",
        "                    self.city = city\n",
        "        def person_info(self):\n",
        "            return f'{self.firstname} {self.lastname} is {self.age} yearvold. He lives in {self.city}, {self.country}'\n",
        "\n",
        "p = Person('rian', 'adria', 28, 'jakarta', 'DKi')\n",
        "print(p.person_info())"
      ],
      "metadata": {
        "colab": {
          "base_uri": "https://localhost:8080/"
        },
        "id": "i_Mqpk6xnGBn",
        "outputId": "3b45d0e4-df00-47c7-9e58-52431a61a58a"
      },
      "execution_count": 38,
      "outputs": [
        {
          "output_type": "stream",
          "name": "stdout",
          "text": [
            "rian adria is 28 yearvold. He lives in DKi, jakarta\n"
          ]
        }
      ]
    },
    {
      "cell_type": "code",
      "source": [
        "class Parrot:\n",
        "\n",
        "      def __init__(self, name, age):\n",
        "                self.name = name\n",
        "                self.age = age\n",
        "\n",
        "      def sing(self, song):\n",
        "        return \"{} sings {}\".format(self.name, song)\n",
        "      def dance(self):\n",
        "        return \"{} is now dancing\".format(self.name)\n",
        "\n",
        "blu = Parrot(\"Blu\", 10)\n",
        "print(blu.sing(\"'Happy'\"))\n",
        "print(blu.dance())"
      ],
      "metadata": {
        "colab": {
          "base_uri": "https://localhost:8080/"
        },
        "id": "BKtoLFfun_fm",
        "outputId": "9258c3f5-7a9e-4421-b789-4b299978099f"
      },
      "execution_count": 39,
      "outputs": [
        {
          "output_type": "stream",
          "name": "stdout",
          "text": [
            "Blu sings 'Happy'\n",
            "Blu is now dancing\n"
          ]
        }
      ]
    },
    {
      "cell_type": "code",
      "source": [
        "class Person:\n",
        "\n",
        "      def __init__(self, firstname='Milaan', lastname='Parmar',\n",
        "                  age=96, country='England', city='London'):\n",
        "                  self.firstname = firstname\n",
        "                  self.lastname = lastname\n",
        "                  self.age = age\n",
        "                  self.country = country\n",
        "                  self.city = city\n",
        "\n",
        "      def person_info(self):\n",
        "          return f'{self.firstname} {self.lastname} is {self.age} yearsold. He lives in {self.city}, {self.country}.'\n",
        "          \n",
        "p1 = Person()\n",
        "print(p1.person_info())\n",
        "p2 = Person('Ben', 'Doe', 30, 'Finland', 'Tampere')\n",
        "print(p2.person_info())"
      ],
      "metadata": {
        "colab": {
          "base_uri": "https://localhost:8080/"
        },
        "id": "bcMJAYEUoT1E",
        "outputId": "6ac0a3af-4171-4ad9-c901-d4fa840f6e16"
      },
      "execution_count": 40,
      "outputs": [
        {
          "output_type": "stream",
          "name": "stdout",
          "text": [
            "Milaan Parmar is 96 yearsold. He lives in London, England.\n",
            "Ben Doe is 30 yearsold. He lives in Tampere, Finland.\n"
          ]
        }
      ]
    },
    {
      "cell_type": "code",
      "source": [
        "class Person:\n",
        "\n",
        "      def __init__(self, firstname='Milaan', lastname='Parmar',\n",
        "                  age=96, country='England', city='London'):\n",
        "                  self.firstname = firstname\n",
        "                  self.lastname = lastname\n",
        "                  self.age = age\n",
        "                  self.country = country\n",
        "                  self.city = city\n",
        "                  self.skills = []\n",
        "      def person_info(self):\n",
        "          return f'{self.firstname} {self.lastname} is {self.age} years old. He lives in {self.city}, {self.country}.'\n",
        "\n",
        "      def add_skill(self, skill):\n",
        "          self.skills.append(skill)\n",
        "          \n",
        "p1 = Person()\n",
        "print(p1.person_info())\n",
        "p1.add_skill('Python')\n",
        "p1.add_skill('MATLAB')\n",
        "p1.add_skill('R')\n",
        "p2 = Person('Ben', 'Doe', 30, 'Finland', 'Tampere')\n",
        "print(p2.person_info())\n",
        "print(p1.skills)\n",
        "print(p2.skills)"
      ],
      "metadata": {
        "colab": {
          "base_uri": "https://localhost:8080/"
        },
        "id": "l-AUT26Bo9Gv",
        "outputId": "e978665f-2717-49ad-fb3a-f9ef77a44fb8"
      },
      "execution_count": 41,
      "outputs": [
        {
          "output_type": "stream",
          "name": "stdout",
          "text": [
            "Milaan Parmar is 96 years old. He lives in London, England.\n",
            "Ben Doe is 30 years old. He lives in Tampere, Finland.\n",
            "['Python', 'MATLAB', 'R']\n",
            "[]\n"
          ]
        }
      ]
    },
    {
      "cell_type": "code",
      "source": [
        "\n",
        "class ClassOne: # Base class\n",
        "\n",
        "    def func1(self):\n",
        "      print('This is Parent class')\n",
        "class ClassTwo(ClassOne): # Derived class\n",
        "  def func2(self):\n",
        "      print('This is Child class')\n",
        "obj = ClassTwo()\n",
        "obj.func1()\n",
        "obj.func2()"
      ],
      "metadata": {
        "colab": {
          "base_uri": "https://localhost:8080/"
        },
        "id": "3gGqt4aEpez5",
        "outputId": "29c2f60f-9694-48fd-9468-d3dfd2c3ba8f"
      },
      "execution_count": 42,
      "outputs": [
        {
          "output_type": "stream",
          "name": "stdout",
          "text": [
            "This is Parent class\n",
            "This is Child class\n"
          ]
        }
      ]
    },
    {
      "cell_type": "code",
      "source": [
        "class Student(Person):\n",
        "      pass\n",
        "\n",
        "s1 = Student('dinda', 'rena', 22, 'bekasi', 'kota')\n",
        "s2 = Student('Emilya', 'putri', 28, 'jakarta', 'dKI')\n",
        "print(s1.person_info())\n",
        "s1.add_skill('HTML')\n",
        "s1.add_skill('CSS')\n",
        "s1.add_skill('JavaScript')\n",
        "print(s1.skills)\n",
        "print(s2.person_info())\n",
        "s2.add_skill('Organizing')\n",
        "s2.add_skill('Marketing')\n",
        "s2.add_skill('Digital Marketing')\n",
        "print(s2.skills)"
      ],
      "metadata": {
        "colab": {
          "base_uri": "https://localhost:8080/"
        },
        "id": "ihiYKehhr0BD",
        "outputId": "f9e8e8f3-a991-47c3-adce-3d67b7dc8fa8"
      },
      "execution_count": 43,
      "outputs": [
        {
          "output_type": "stream",
          "name": "stdout",
          "text": [
            "dinda rena is 22 years old. He lives in kota, bekasi.\n",
            "['HTML', 'CSS', 'JavaScript']\n",
            "Emilya putri is 28 years old. He lives in dKI, jakarta.\n",
            "['Organizing', 'Marketing', 'Digital Marketing']\n"
          ]
        }
      ]
    },
    {
      "cell_type": "code",
      "source": [
        "class Student(Person):\n",
        "\n",
        "    def __init__ (self, firstname='Milaan', lastname='Parmar',age=96,\n",
        "    country='England', city='London', gender='male'):\n",
        "        self.gender = gender \n",
        "        super().__init__(firstname, lastname,age, country, city)\n",
        "\n",
        "    def person_info(self):\n",
        "        gender = 'He' if self.gender =='male' else 'She'\n",
        "        return f'{self.firstname} {self.lastname} is {self.age} years old. {gender} lives in {self.city}, {self.country}.'\n",
        "\n",
        "s1 = Student('jingga', 'seraya', 33, 'jakarta', 'DKI','male')\n",
        "s2 = Student('Emily', 'putri', 28, 'jarkarta', 'DKI','female')\n",
        "print(s1.person_info())\n",
        "s1.add_skill('HTML')\n",
        "s1.add_skill('CSS')\n",
        "s1.add_skill('JavaScript')\n",
        "print(s1.skills)\n",
        "print(s2.person_info())\n",
        "s2.add_skill('Organizing')\n",
        "s2.add_skill('Marketing')\n",
        "s2.add_skill('Digital Marketing')\n",
        "print(s2.skills)"
      ],
      "metadata": {
        "colab": {
          "base_uri": "https://localhost:8080/"
        },
        "id": "-BtHrnWCsU3a",
        "outputId": "ac7e8724-7590-4b72-9ed8-e7b89883625e"
      },
      "execution_count": 46,
      "outputs": [
        {
          "output_type": "stream",
          "name": "stdout",
          "text": [
            "jingga seraya is 33 years old. He lives in DKI, jakarta.\n",
            "['HTML', 'CSS', 'JavaScript']\n",
            "Emily putri is 28 years old. She lives in DKI, jarkarta.\n",
            "['Organizing', 'Marketing', 'Digital Marketing']\n"
          ]
        }
      ]
    },
    {
      "cell_type": "code",
      "source": [
        "class Bird:\n",
        "    def __init__(self):\n",
        "        print(\"Bird is ready\")\n",
        "    def whoisThis(self):\n",
        "        print(\"Bird\")\n",
        "    def swim(self):\n",
        "        print(\"Swim faster\")\n",
        "   \n",
        "class Penguin(Bird):\n",
        "\n",
        "    def __init__(self):\n",
        "            super().__init__() \n",
        "            print(\"Penguin is ready\")\n",
        "    def whoisThis(self):\n",
        "          print(\"Penguin\")\n",
        "    def run(self):\n",
        "          print(\"Run faster\")\n",
        "  \n",
        "peggy = Penguin()\n",
        "peggy.whoisThis()\n",
        "peggy.swim()\n",
        "peggy.run()"
      ],
      "metadata": {
        "colab": {
          "base_uri": "https://localhost:8080/"
        },
        "id": "vHqAhVhBtQSc",
        "outputId": "18fc50dd-afa3-4de8-8cb0-d4ec52e8bb6d"
      },
      "execution_count": 53,
      "outputs": [
        {
          "output_type": "stream",
          "name": "stdout",
          "text": [
            "Bird is ready\n",
            "Penguin is ready\n",
            "Penguin\n",
            "Swim faster\n",
            "Run faster\n"
          ]
        }
      ]
    },
    {
      "cell_type": "code",
      "source": [
        "class Computer:\n",
        "    def __init__(self):\n",
        "        self.__maxprice = 900\n",
        "    def sell(self):\n",
        "      print(\"Selling Price: {}\".format(self.__maxprice))\n",
        "    def setMaxPrice(self, price):\n",
        "        self.__maxprice = price\n",
        "\n",
        "c = Computer()\n",
        "c.sell()\n",
        "\n",
        "c.__maxprice = 1000\n",
        "c.sell()\n",
        "\n",
        "c.setMaxPrice(1000)\n",
        "c.sell()"
      ],
      "metadata": {
        "colab": {
          "base_uri": "https://localhost:8080/"
        },
        "id": "OrzatHofueUS",
        "outputId": "4a962a61-b129-4233-9e68-75e9eb8e25b2"
      },
      "execution_count": 54,
      "outputs": [
        {
          "output_type": "stream",
          "name": "stdout",
          "text": [
            "Selling Price: 900\n",
            "Selling Price: 900\n",
            "Selling Price: 1000\n"
          ]
        }
      ]
    },
    {
      "cell_type": "code",
      "source": [
        "class Parrot:\n",
        "    def fly(self):\n",
        "      print(\"Parrot can fly\")\n",
        "    def swim(self):\n",
        "      print(\"Parrot can't swim\")\n",
        "class Penguin:\n",
        "    def fly(self):\n",
        "      print(\"Penguin can't fly\")\n",
        "    def swim(self):\n",
        "      print(\"Penguin can swim\")\n",
        "\n",
        "    def flying_test(bird):\n",
        "      bird.fly()\n",
        "\n",
        "blu = Parrot()\n",
        "peggy = Penguin()"
      ],
      "metadata": {
        "id": "7zgMLpQ6u0Pw"
      },
      "execution_count": 55,
      "outputs": []
    },
    {
      "cell_type": "code",
      "source": [
        "class Circle:\n",
        "  pi = 3.14\n",
        "  def __init__(self, redius):\n",
        "      self.radius = redius\n",
        "  def calculate_area(self):\n",
        "      print(\"Area of circle:\", self.pi * self.radius * self.radius)\n",
        "      \n",
        "class Rectangle:\n",
        "  def __init__(self, length, width):\n",
        "    self.length = length\n",
        "    self.width = width\n",
        "  def calculate_area(self):\n",
        "    print(\"Area of Rectangle:\", self.length * self.width)\n",
        "\n",
        "cir = Circle(9)\n",
        "rect = Rectangle(9, 6)\n",
        "cir.calculate_area() # Output Area of circle: 254.34\n",
        "rect.calculate_area()"
      ],
      "metadata": {
        "colab": {
          "base_uri": "https://localhost:8080/"
        },
        "id": "gNfwPMkRvJWc",
        "outputId": "7a513a9c-671c-4c9b-c949-8796fe707520"
      },
      "execution_count": 56,
      "outputs": [
        {
          "output_type": "stream",
          "name": "stdout",
          "text": [
            "Area of circle: 254.34\n",
            "Area of Rectangle: 54\n"
          ]
        }
      ]
    }
  ]
}