{
  "nbformat": 4,
  "nbformat_minor": 0,
  "metadata": {
    "colab": {
      "provenance": [],
      "collapsed_sections": [],
      "include_colab_link": true
    },
    "kernelspec": {
      "name": "python3",
      "display_name": "Python 3"
    }
  },
  "cells": [
    {
      "cell_type": "markdown",
      "metadata": {
        "id": "view-in-github",
        "colab_type": "text"
      },
      "source": [
        "<a href=\"https://colab.research.google.com/github/roy392/cautious-goggles/blob/main/_3_HandsOn_IMDB_Review.ipynb\" target=\"_parent\"><img src=\"https://colab.research.google.com/assets/colab-badge.svg\" alt=\"Open In Colab\"/></a>"
      ]
    },
    {
      "cell_type": "markdown",
      "metadata": {
        "id": "fuE8Vksj6umX"
      },
      "source": [
        "Work with the IMDB dataset: a set of 50,000 highly polarized reviews from the Internet Movie Database. They’re split into 25,000 reviews for training and 25,000 reviews for testing, each set consisting of 50% negative and 50% positive reviews."
      ]
    },
    {
      "cell_type": "markdown",
      "metadata": {
        "id": "RKrmmiKu64Y_"
      },
      "source": [
        "Preparing the dataset"
      ]
    },
    {
      "cell_type": "code",
      "metadata": {
        "id": "AUlcqB1z6t0Q",
        "colab": {
          "base_uri": "https://localhost:8080/"
        },
        "outputId": "61759311-47eb-41af-e21b-17a27b36a29f"
      },
      "source": [
        "#Import dataset\n",
        "from keras.datasets import imdb\n",
        "\n",
        "(train_data, train_labels), (test_data, test_labels) = imdb.load_data( num_words=10000)"
      ],
      "execution_count": null,
      "outputs": [
        {
          "output_type": "stream",
          "name": "stdout",
          "text": [
            "Downloading data from https://storage.googleapis.com/tensorflow/tf-keras-datasets/imdb.npz\n",
            "17465344/17464789 [==============================] - 0s 0us/step\n",
            "17473536/17464789 [==============================] - 0s 0us/step\n"
          ]
        }
      ]
    },
    {
      "cell_type": "markdown",
      "metadata": {
        "id": "Y9NfyHon_gKz"
      },
      "source": [
        "The variables train_data and test_data are lists of reviews; each review is a list of word indices (encoding a sequence of words). train_labels and test_labels are lists of 0s and 1s, where 0 stands for negative and 1 stands for positive:"
      ]
    },
    {
      "cell_type": "code",
      "metadata": {
        "id": "vXCVMjN8_idx"
      },
      "source": [
        "#Tunjukkan ada berapa instant data untuk data training dan data testing\n",
        "#Write your code here, put your comment"
      ],
      "execution_count": null,
      "outputs": []
    },
    {
      "cell_type": "code",
      "source": [
        "#Tunjukkan 10 instant data data training pertama"
      ],
      "metadata": {
        "id": "Wh9IeSjSisP_"
      },
      "execution_count": null,
      "outputs": []
    },
    {
      "cell_type": "code",
      "source": [
        "#tunjukkan 20 label data testing pertama"
      ],
      "metadata": {
        "id": "cDyMP70bjdtA"
      },
      "execution_count": null,
      "outputs": []
    },
    {
      "cell_type": "markdown",
      "metadata": {
        "id": "1T3bp3tq_gQq"
      },
      "source": [
        "Restricting  to the top 10,000 most frequent words, no word index will exceed 10,000:"
      ]
    },
    {
      "cell_type": "code",
      "metadata": {
        "id": "VcDoscyg_ij0",
        "colab": {
          "base_uri": "https://localhost:8080/"
        },
        "outputId": "3c4fcc05-a064-4346-8c23-bfea22fa846b"
      },
      "source": [
        "max([max(sequence) for sequence in train_data])"
      ],
      "execution_count": null,
      "outputs": [
        {
          "output_type": "execute_result",
          "data": {
            "text/plain": [
              "9999"
            ]
          },
          "metadata": {},
          "execution_count": 3
        }
      ]
    },
    {
      "cell_type": "markdown",
      "metadata": {
        "id": "fFTIDWbR_gW2"
      },
      "source": [
        "3D tensors\n",
        "Create  Your code in numpy to represent sample of 3D Tensors"
      ]
    },
    {
      "cell_type": "code",
      "metadata": {
        "id": "T-MzjPhH_io6",
        "colab": {
          "base_uri": "https://localhost:8080/"
        },
        "outputId": "e5a181cc-c705-4da0-b97b-ee1f52cccec5"
      },
      "source": [
        "#how you can quickly decode one of these reviews back to English words:\n",
        "word_index = imdb.get_word_index() \n",
        "reverse_word_index = dict(\n",
        "    [(value, key) for (key, value) in word_index.items()]) \n",
        "decoded_review = ' '.join(\n",
        "    [reverse_word_index.get(i - 3, '?') for i in train_data[0]])"
      ],
      "execution_count": null,
      "outputs": [
        {
          "output_type": "stream",
          "name": "stdout",
          "text": [
            "Downloading data from https://storage.googleapis.com/tensorflow/tf-keras-datasets/imdb_word_index.json\n",
            "1646592/1641221 [==============================] - 0s 0us/step\n",
            "1654784/1641221 [==============================] - 0s 0us/step\n"
          ]
        }
      ]
    },
    {
      "cell_type": "markdown",
      "metadata": {
        "id": "Kpg2ggVuFdSh"
      },
      "source": [
        "**Preparing the data**\n",
        "You have to turn your lists into tensors. There are two ways to do that:\n",
        "-Pad your lists so that they all have the same length, turn them into an integer tensor of shape (samples, word_indices), and then use as the first layer in your network a layer capable of handling such integer tensors (the Embedding layer, which we’ll cover in detail later in the book). \n",
        "-One-hot encode your lists to turn them into vectors of 0s and 1s. This would mean, for instance, turning the sequence [3, 5] into a 10,000-dimensional vector that would be all 0s except for indices 3 and 5, which would be 1s. Then you could use as the first layer in your network a Dense layer, capable of handling floating-point vector data."
      ]
    },
    {
      "cell_type": "markdown",
      "metadata": {
        "id": "eio3FrkPFqqv"
      },
      "source": [
        "Encoding the integer sequences into a binary matrix"
      ]
    },
    {
      "cell_type": "code",
      "metadata": {
        "id": "7SowAFa9Fvds"
      },
      "source": [
        "import numpy as np\n",
        "#Write your comment about the code below\n",
        "#Write your comment here\n",
        "\n",
        "def vectorize_sequences(sequences, dimension=10000):\n",
        "  results = np.zeros((len(sequences), dimension)) \n",
        "  for i, sequence in enumerate(sequences):\n",
        "    results[i, sequence] = 1.\n",
        "  return results\n",
        "\n",
        "x_train = vectorize_sequences(train_data) \n",
        "x_test = vectorize_sequences(test_data)"
      ],
      "execution_count": null,
      "outputs": []
    },
    {
      "cell_type": "markdown",
      "metadata": {
        "id": "Mu3tpZJ-GKgl"
      },
      "source": [
        "You should also vectorize your labels, which is straightforward:\n",
        "\n"
      ]
    },
    {
      "cell_type": "code",
      "metadata": {
        "id": "oXpVL4q2GM-H"
      },
      "source": [
        "\n",
        "y_train = np.asarray(train_labels).astype('float32') \n",
        "y_test = np.asarray(test_labels).astype('float32')\n"
      ],
      "execution_count": null,
      "outputs": []
    },
    {
      "cell_type": "markdown",
      "metadata": {
        "id": "uzhXJrPLIM-q"
      },
      "source": [
        "**Building the models : Networks Layers**\n",
        "![Screen Shot 2021-03-08 at 8.57.15 PM.png](data:image/png;base64,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)"
      ]
    },
    {
      "cell_type": "code",
      "metadata": {
        "id": "4EerH2ENIYL7"
      },
      "source": [
        "from keras import models \n",
        "from keras import layers\n",
        "\n",
        "model = models.Sequential() \n",
        "model.add(layers.Dense(16, activation='relu', input_shape=(10000,))) \n",
        "model.add(layers.Dense(16, activation='relu')) \n",
        "model.add(layers.Dense(1, activation='sigmoid'))"
      ],
      "execution_count": null,
      "outputs": []
    },
    {
      "cell_type": "code",
      "source": [
        "#Check, visualize the model\n",
        "model.summary()"
      ],
      "metadata": {
        "colab": {
          "base_uri": "https://localhost:8080/"
        },
        "id": "_C-BQwBq0Z2W",
        "outputId": "e12cbae9-e785-4eba-a423-05f654f23959"
      },
      "execution_count": null,
      "outputs": [
        {
          "output_type": "stream",
          "name": "stdout",
          "text": [
            "Model: \"sequential\"\n",
            "_________________________________________________________________\n",
            " Layer (type)                Output Shape              Param #   \n",
            "=================================================================\n",
            " dense (Dense)               (None, 16)                160016    \n",
            "                                                                 \n",
            " dense_1 (Dense)             (None, 16)                272       \n",
            "                                                                 \n",
            " dense_2 (Dense)             (None, 1)                 17        \n",
            "                                                                 \n",
            "=================================================================\n",
            "Total params: 160,305\n",
            "Trainable params: 160,305\n",
            "Non-trainable params: 0\n",
            "_________________________________________________________________\n"
          ]
        }
      ]
    },
    {
      "cell_type": "markdown",
      "metadata": {
        "id": "NDePeOzkIs7M"
      },
      "source": [
        "Compiling the model"
      ]
    },
    {
      "cell_type": "code",
      "metadata": {
        "id": "snIoM3nyIue6"
      },
      "source": [
        "model.compile(optimizer='rmsprop',loss='binary_crossentropy', metrics=['accuracy'])\n"
      ],
      "execution_count": null,
      "outputs": []
    },
    {
      "cell_type": "markdown",
      "metadata": {
        "id": "wA5FGW99JTzE"
      },
      "source": [
        "**Task**\n",
        "\n",
        "Learn how to Configuring the optimizer and the usage of custom losses and metrics. Try your own code  "
      ]
    },
    {
      "cell_type": "code",
      "source": [
        "#tulis code anda di sini"
      ],
      "metadata": {
        "id": "mh3qiwJK0fQR"
      },
      "execution_count": null,
      "outputs": []
    },
    {
      "cell_type": "markdown",
      "metadata": {
        "id": "KupP1hM3KEyM"
      },
      "source": [
        "Validating your approach"
      ]
    },
    {
      "cell_type": "code",
      "metadata": {
        "id": "aiiIvkjDJodO"
      },
      "source": [
        "x_val = x_train[:10000] \n",
        "partial_x_train = x_train[10000:]\n",
        "y_val = y_train[:10000] \n",
        "partial_y_train = y_train[10000:]"
      ],
      "execution_count": null,
      "outputs": []
    },
    {
      "cell_type": "markdown",
      "metadata": {
        "id": "ZpXt4k-_KV28"
      },
      "source": [
        "Training your model"
      ]
    },
    {
      "cell_type": "code",
      "metadata": {
        "id": "kwrJWZSRKWpc",
        "colab": {
          "base_uri": "https://localhost:8080/"
        },
        "outputId": "7495bb0e-f378-4753-a040-669b87252219"
      },
      "source": [
        "model.compile(optimizer='rmsprop',loss='binary_crossentropy', metrics=['acc'])\n",
        "history = model.fit(partial_x_train, partial_y_train, epochs=20, \n",
        "                    batch_size=512, validation_data=(x_val, y_val))"
      ],
      "execution_count": null,
      "outputs": [
        {
          "output_type": "stream",
          "name": "stdout",
          "text": [
            "Epoch 1/20\n",
            "30/30 [==============================] - 3s 48ms/step - loss: 0.5133 - acc: 0.7893 - val_loss: 0.4059 - val_acc: 0.8497\n",
            "Epoch 2/20\n",
            "30/30 [==============================] - 1s 35ms/step - loss: 0.3127 - acc: 0.9047 - val_loss: 0.3114 - val_acc: 0.8861\n",
            "Epoch 3/20\n",
            "30/30 [==============================] - 1s 35ms/step - loss: 0.2339 - acc: 0.9260 - val_loss: 0.2830 - val_acc: 0.8898\n",
            "Epoch 4/20\n",
            "30/30 [==============================] - 1s 38ms/step - loss: 0.1867 - acc: 0.9407 - val_loss: 0.2764 - val_acc: 0.8899\n",
            "Epoch 5/20\n",
            "30/30 [==============================] - 1s 35ms/step - loss: 0.1551 - acc: 0.9509 - val_loss: 0.2771 - val_acc: 0.8896\n",
            "Epoch 6/20\n",
            "30/30 [==============================] - 1s 35ms/step - loss: 0.1280 - acc: 0.9617 - val_loss: 0.3037 - val_acc: 0.8824\n",
            "Epoch 7/20\n",
            "30/30 [==============================] - 1s 35ms/step - loss: 0.1078 - acc: 0.9692 - val_loss: 0.2984 - val_acc: 0.8869\n",
            "Epoch 8/20\n",
            "30/30 [==============================] - 1s 35ms/step - loss: 0.0879 - acc: 0.9767 - val_loss: 0.3128 - val_acc: 0.8843\n",
            "Epoch 9/20\n",
            "30/30 [==============================] - 1s 35ms/step - loss: 0.0733 - acc: 0.9807 - val_loss: 0.3295 - val_acc: 0.8820\n",
            "Epoch 10/20\n",
            "30/30 [==============================] - 1s 38ms/step - loss: 0.0584 - acc: 0.9868 - val_loss: 0.3534 - val_acc: 0.8821\n",
            "Epoch 11/20\n",
            "30/30 [==============================] - 1s 34ms/step - loss: 0.0477 - acc: 0.9891 - val_loss: 0.3751 - val_acc: 0.8784\n",
            "Epoch 12/20\n",
            "30/30 [==============================] - 2s 64ms/step - loss: 0.0359 - acc: 0.9929 - val_loss: 0.3991 - val_acc: 0.8776\n",
            "Epoch 13/20\n",
            "30/30 [==============================] - 2s 58ms/step - loss: 0.0269 - acc: 0.9953 - val_loss: 0.4554 - val_acc: 0.8732\n",
            "Epoch 14/20\n",
            "30/30 [==============================] - 2s 55ms/step - loss: 0.0212 - acc: 0.9973 - val_loss: 0.4554 - val_acc: 0.8760\n",
            "Epoch 15/20\n",
            "30/30 [==============================] - 1s 34ms/step - loss: 0.0152 - acc: 0.9986 - val_loss: 0.4922 - val_acc: 0.8717\n",
            "Epoch 16/20\n",
            "30/30 [==============================] - 1s 35ms/step - loss: 0.0120 - acc: 0.9987 - val_loss: 0.5274 - val_acc: 0.8715\n",
            "Epoch 17/20\n",
            "30/30 [==============================] - 1s 35ms/step - loss: 0.0086 - acc: 0.9991 - val_loss: 0.5619 - val_acc: 0.8718\n",
            "Epoch 18/20\n",
            "30/30 [==============================] - 1s 35ms/step - loss: 0.0049 - acc: 0.9998 - val_loss: 0.5887 - val_acc: 0.8722\n",
            "Epoch 19/20\n",
            "30/30 [==============================] - 1s 34ms/step - loss: 0.0046 - acc: 0.9999 - val_loss: 0.6231 - val_acc: 0.8690\n",
            "Epoch 20/20\n",
            "30/30 [==============================] - 1s 34ms/step - loss: 0.0060 - acc: 0.9985 - val_loss: 0.6494 - val_acc: 0.8697\n"
          ]
        }
      ]
    },
    {
      "cell_type": "markdown",
      "metadata": {
        "id": "KuGmkboRKroE"
      },
      "source": [
        "Plotting the training and validation loss"
      ]
    },
    {
      "cell_type": "code",
      "metadata": {
        "id": "A-LJnHbVLnhy",
        "colab": {
          "base_uri": "https://localhost:8080/"
        },
        "outputId": "47cc894d-3f50-4dde-9393-5ad6bb636a7a"
      },
      "source": [
        "history_dict = history.history\n",
        "history_dict.keys()"
      ],
      "execution_count": null,
      "outputs": [
        {
          "output_type": "execute_result",
          "data": {
            "text/plain": [
              "dict_keys(['loss', 'acc', 'val_loss', 'val_acc'])"
            ]
          },
          "metadata": {},
          "execution_count": 12
        }
      ]
    },
    {
      "cell_type": "code",
      "metadata": {
        "id": "hO_icxxgLwP0"
      },
      "source": [
        "acc=history_dict['acc']"
      ],
      "execution_count": null,
      "outputs": []
    },
    {
      "cell_type": "code",
      "metadata": {
        "id": "OFv44FA7KxWh",
        "colab": {
          "base_uri": "https://localhost:8080/",
          "height": 295
        },
        "outputId": "4bc65d3d-ebb0-4cf2-8d00-e1831942dc98"
      },
      "source": [
        "import matplotlib.pyplot as plt\n",
        "history_dict = history.history \n",
        "loss_values = history_dict['loss'] \n",
        "val_loss_values = history_dict['val_loss']\n",
        "epochs = range(1, len(acc) + 1)\n",
        "\n",
        "plt.plot(epochs, loss_values, 'bo', label='Training loss') \n",
        "plt.plot(epochs, val_loss_values, 'b', label='Validation loss') \n",
        "plt.title('Training and validation loss')\n",
        "\n",
        "plt.xlabel('Epochs')\n",
        "plt.ylabel('Loss') \n",
        "plt.legend()\n",
        "plt.show()"
      ],
      "execution_count": null,
      "outputs": [
        {
          "output_type": "display_data",
          "data": {
            "text/plain": [
              "<Figure size 432x288 with 1 Axes>"
            ],
            "image/png": "[encoded data removed]"
          },
          "metadata": {
            "needs_background": "light"
          }
        }
      ]
    },
    {
      "cell_type": "markdown",
      "metadata": {
        "id": "rhdsOvFiMZwQ"
      },
      "source": [
        "Plotting the training and validation accuracy"
      ]
    },
    {
      "cell_type": "code",
      "metadata": {
        "id": "d7TdbDQWMats",
        "colab": {
          "base_uri": "https://localhost:8080/",
          "height": 295
        },
        "outputId": "f8f573d6-22ac-42e1-f335-9e77feed1a42"
      },
      "source": [
        "plt.clf() \n",
        "#Clears the figure \n",
        "acc_values = history_dict['acc'] \n",
        "val_acc_values = history_dict['val_acc']\n",
        "\n",
        "plt.plot(epochs, acc_values, 'bo', label='Training acc') \n",
        "plt.plot(epochs, val_acc_values, 'b', label='Validation acc') \n",
        "plt.title('Training and validation accuracy') \n",
        "plt.xlabel('Epochs') \n",
        "plt.ylabel('Accuracy') \n",
        "plt.legend()\n",
        "\n",
        "plt.show()"
      ],
      "execution_count": null,
      "outputs": [
        {
          "output_type": "display_data",
          "data": {
            "text/plain": [
              "<Figure size 432x288 with 1 Axes>"
            ],
            "image/png": "[encoded data removed]"
          },
          "metadata": {
            "needs_background": "light"
          }
        }
      ]
    },
    {
      "cell_type": "markdown",
      "metadata": {
        "id": "VdGbo9K6R7KK"
      },
      "source": [
        "Using a trained network to generate predictions on new data"
      ]
    },
    {
      "cell_type": "code",
      "source": [
        "score, acc = model.evaluate(x_test, y_test, verbose=0)"
      ],
      "metadata": {
        "id": "GgvpMm8c3qwK"
      },
      "execution_count": null,
      "outputs": []
    },
    {
      "cell_type": "code",
      "metadata": {
        "id": "MurDebq-R9Bk",
        "colab": {
          "base_uri": "https://localhost:8080/"
        },
        "outputId": "24fc9c3f-952f-40e8-b6ef-860c70afa19d"
      },
      "source": [
        "y_pred=model.predict(np.array(x_test))\n",
        "y_pred"
      ],
      "execution_count": null,
      "outputs": [
        {
          "output_type": "execute_result",
          "data": {
            "text/plain": [
              "array([[0.02000579],\n",
              "       [0.9999999 ],\n",
              "       [0.6538857 ],\n",
              "       ...,\n",
              "       [0.00241047],\n",
              "       [0.01127234],\n",
              "       [0.72728074]], dtype=float32)"
            ]
          },
          "metadata": {},
          "execution_count": 17
        }
      ]
    },
    {
      "cell_type": "code",
      "source": [
        "pred = (y_pred > 0.5)"
      ],
      "metadata": {
        "id": "fVXQ7uKK297c"
      },
      "execution_count": null,
      "outputs": []
    },
    {
      "cell_type": "code",
      "source": [
        "pred"
      ],
      "metadata": {
        "colab": {
          "base_uri": "https://localhost:8080/"
        },
        "id": "2vRGRaTMEb9f",
        "outputId": "d0a1a291-ee30-4ba8-c1ee-27b5ed2accac"
      },
      "execution_count": null,
      "outputs": [
        {
          "output_type": "execute_result",
          "data": {
            "text/plain": [
              "array([[False],\n",
              "       [ True],\n",
              "       [ True],\n",
              "       ...,\n",
              "       [False],\n",
              "       [False],\n",
              "       [ True]])"
            ]
          },
          "metadata": {},
          "execution_count": 19
        }
      ]
    },
    {
      "cell_type": "code",
      "source": [
        "#Evaluasi, Confusion matrix\n",
        "import seaborn as sn\n",
        "from sklearn.metrics import classification_report,confusion_matrix\n",
        "from sklearn import metrics\n",
        "import pandas as pd\n",
        "print(metrics.accuracy_score(y_test, pred))\n",
        "target_names = ['pos', 'neg']\n",
        "cnf_matrix_test = confusion_matrix(y_test, pred)\n",
        "print(classification_report(y_test, pred, target_names=target_names))\n",
        "print(cnf_matrix_test)\n",
        "df_cm = pd.DataFrame(cnf_matrix_test, range(2), range(2))\n",
        "sn.set(font_scale=1.4)\n",
        "sn.heatmap(df_cm, annot=True, fmt='d')"
      ],
      "metadata": {
        "colab": {
          "base_uri": "https://localhost:8080/",
          "height": 499
        },
        "id": "R0d0UP-zFEMT",
        "outputId": "b7da12ff-0010-4622-89dd-558c73c590bb"
      },
      "execution_count": null,
      "outputs": [
        {
          "output_type": "stream",
          "name": "stdout",
          "text": [
            "0.85304\n",
            "              precision    recall  f1-score   support\n",
            "\n",
            "         pos       0.85      0.86      0.85     12500\n",
            "         neg       0.86      0.84      0.85     12500\n",
            "\n",
            "    accuracy                           0.85     25000\n",
            "   macro avg       0.85      0.85      0.85     25000\n",
            "weighted avg       0.85      0.85      0.85     25000\n",
            "\n",
            "[[10787  1713]\n",
            " [ 1961 10539]]\n"
          ]
        },
        {
          "output_type": "execute_result",
          "data": {
            "text/plain": [
              "<matplotlib.axes._subplots.AxesSubplot at 0x7ff9a1498a10>"
            ]
          },
          "metadata": {},
          "execution_count": 20
        },
        {
          "output_type": "display_data",
          "data": {
            "text/plain": [
              "<Figure size 432x288 with 2 Axes>"
            ],
            "image/png": "[encoded data removed]"
          },
          "metadata": {}
        }
      ]
    },
    {
      "cell_type": "markdown",
      "metadata": {
        "id": "ztqgfFjWSLrt"
      },
      "source": [
        "**Further experiments/Latihan !**\n",
        "\n",
        "Eksperimen berikut akan membantu pemahaman anda bahwa pilihan arsitektur yang dibuat semuanya cukup masuk akal, meskipun masih ada ruang untuk perbaikan:\n",
        "\n",
        "* Anda menggunakan dua hidden layer. Coba gunakan satu atau tiga lapisan tersembunyi dan lihat bagaimana hal itu memengaruhi validasi dan akurasi pengujian.\n",
        "* Coba gunakan lapisan dengan lebih banyak unit pada hidden layaer atau lebih sedikit unit tersembunyi: 32 unit, 64 unit, dan seterusnya.\n",
        "* Coba gunakan fungsi mse loss selain menggunakan binary_crossentropy.\n",
        "* Coba gunakan aktivasi tanh (aktivasi yang populer di masa-masa awal jaringan saraf) selain relu."
      ]
    },
    {
      "cell_type": "code",
      "metadata": {
        "id": "MnzT-dW0SqPO"
      },
      "source": [
        "#HANDS ON...\n",
        "#Write your code here"
      ],
      "execution_count": null,
      "outputs": []
    }
  ]
}