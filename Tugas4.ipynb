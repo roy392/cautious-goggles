{
  "nbformat": 4,
  "nbformat_minor": 0,
  "metadata": {
    "colab": {
      "name": "Tugas4.ipynb",
      "provenance": [],
      "authorship_tag": "ABX9TyNTu4S4yiyNaJa1upkmhJcO",
      "include_colab_link": true
    },
    "kernelspec": {
      "name": "python3",
      "display_name": "Python 3"
    },
    "language_info": {
      "name": "python"
    }
  },
  "cells": [
    {
      "cell_type": "markdown",
      "metadata": {
        "id": "view-in-github",
        "colab_type": "text"
      },
      "source": [
        "<a href=\"https://colab.research.google.com/github/roy392/cautious-goggles/blob/main/Tugas4.ipynb\" target=\"_parent\"><img src=\"https://colab.research.google.com/assets/colab-badge.svg\" alt=\"Open In Colab\"/></a>"
      ]
    },
    {
      "cell_type": "code",
      "source": [
        "import numpy as roy"
      ],
      "metadata": {
        "id": "-d3wDRzOwPSk"
      },
      "execution_count": 22,
      "outputs": []
    },
    {
      "cell_type": "code",
      "execution_count": 24,
      "metadata": {
        "colab": {
          "base_uri": "https://localhost:8080/"
        },
        "id": "e0D8jBwLjI9C",
        "outputId": "ec7bf542-457d-43ae-ac1a-6c7e6e128f7a"
      },
      "outputs": [
        {
          "output_type": "stream",
          "name": "stdout",
          "text": [
            "banyaknya entry =  9\n",
            "dimensi array =  2\n",
            "ukuran array =  (3, 3)\n"
          ]
        }
      ],
      "source": [
        "\n",
        "a = roy.array([[1, 3, 0], [2, 4, 1], [3, 6, 7]])\n",
        "\n",
        "print('banyaknya entry = ', a.size)\n",
        "print('dimensi array = ', a.ndim)\n",
        "print('ukuran array = ', a.shape)"
      ]
    },
    {
      "cell_type": "code",
      "source": [
        "a[:]\n",
        "print('baris ke-2 = ', a[1])\n",
        "print('entry ke-2 & 3 baris ke-2 = ', a[1, 1:])\n",
        "print('entry pertama & 2 kolom ke-2 = ', a[:2, 1])"
      ],
      "metadata": {
        "colab": {
          "base_uri": "https://localhost:8080/"
        },
        "id": "RGAu9m40mqrs",
        "outputId": "f6e62dd8-bf62-4e2d-d6d8-84a9582be227"
      },
      "execution_count": 8,
      "outputs": [
        {
          "output_type": "stream",
          "name": "stdout",
          "text": [
            "baris ke-2 =  [2 4 1]\n",
            "entry ke-2 & 3 baris ke-2 =  [4 1]\n",
            "entry pertama & 2 kolom ke-2 =  [3 4]\n"
          ]
        }
      ]
    },
    {
      "cell_type": "code",
      "source": [
        "a[2]\n",
        "print('baris ke-2 = ', a[1])\n",
        "print('entry ke-2 & 3 baris ke-2 = ', a[1, 1:])\n",
        "print('entry pertama & 2 kolom ke-2 = ', a[:2, 1])"
      ],
      "metadata": {
        "colab": {
          "base_uri": "https://localhost:8080/"
        },
        "id": "ZLwvihnMncdj",
        "outputId": "92973d02-ba5e-4083-bfaa-606830a14234"
      },
      "execution_count": 9,
      "outputs": [
        {
          "output_type": "stream",
          "name": "stdout",
          "text": [
            "baris ke-2 =  [2 4 1]\n",
            "entry ke-2 & 3 baris ke-2 =  [4 1]\n",
            "entry pertama & 2 kolom ke-2 =  [3 4]\n"
          ]
        }
      ]
    },
    {
      "cell_type": "code",
      "source": [
        "a[1:]\n",
        "print('baris ke-2 = ', a[1])\n",
        "print('entry ke-2 & 3 baris ke-2 = ', a[1, 1:])\n",
        "print('entry pertama & 2 kolom ke-2 = ', a[:2, 1])"
      ],
      "metadata": {
        "colab": {
          "base_uri": "https://localhost:8080/"
        },
        "id": "6P5S3UZHnqE-",
        "outputId": "b803eba8-6f1e-4346-c1a6-5aa5170fd53c"
      },
      "execution_count": 10,
      "outputs": [
        {
          "output_type": "stream",
          "name": "stdout",
          "text": [
            "baris ke-2 =  [2 4 1]\n",
            "entry ke-2 & 3 baris ke-2 =  [4 1]\n",
            "entry pertama & 2 kolom ke-2 =  [3 4]\n"
          ]
        }
      ]
    },
    {
      "cell_type": "code",
      "source": [
        "print('a[1:3] = ', a[1:3])\n",
        "print('a[:3] = ', a[:3])"
      ],
      "metadata": {
        "colab": {
          "base_uri": "https://localhost:8080/"
        },
        "id": "y9x1IWGkszJJ",
        "outputId": "a815495a-2996-41b6-cf2d-5bd1c8e341de"
      },
      "execution_count": 25,
      "outputs": [
        {
          "output_type": "stream",
          "name": "stdout",
          "text": [
            "a[1:3] =  [[2 4 1]\n",
            " [3 6 7]]\n",
            "a[:3] =  [[1 3 0]\n",
            " [2 4 1]\n",
            " [3 6 7]]\n"
          ]
        }
      ]
    },
    {
      "cell_type": "code",
      "source": [
        "import numpy as roy\n",
        "A = roy.array([[1, 3, 0], [2, 4, 1], [3, 6, 7]])\n",
        "print('baris ke-3 = ', A[2])\n",
        "print('entry ke-1 & 2 baris ke-3 = ', A[2,0:2])\n",
        "print('entry ke-2 & 3 kolom ke-3 = ', A[1:,2])"
      ],
      "metadata": {
        "colab": {
          "base_uri": "https://localhost:8080/"
        },
        "id": "MeCDfoO5ojDD",
        "outputId": "538740f8-6d6b-4e93-c655-6139f190c9a4"
      },
      "execution_count": 15,
      "outputs": [
        {
          "output_type": "stream",
          "name": "stdout",
          "text": [
            "baris ke-3 =  [3 6 7]\n",
            "entry ke-1 & 2 baris ke-3 =  [3 6]\n",
            "entry ke-2 & 3 kolom ke-3 =  [1 7]\n"
          ]
        }
      ]
    },
    {
      "cell_type": "code",
      "source": [
        "A[:]\n",
        "print('baris ke-3 = ', A[2])\n",
        "print('entry ke-1 & 2 baris ke-3 = ', A[2,0:2])\n",
        "print('entry ke-2 & 3 kolom ke-3 = ', A[1:,2])"
      ],
      "metadata": {
        "colab": {
          "base_uri": "https://localhost:8080/"
        },
        "id": "2r2VohNWs1em",
        "outputId": "027d0dbb-b8cb-4e6c-a937-5b2ed7195a2c"
      },
      "execution_count": 16,
      "outputs": [
        {
          "output_type": "stream",
          "name": "stdout",
          "text": [
            "baris ke-3 =  [3 6 7]\n",
            "entry ke-1 & 2 baris ke-3 =  [3 6]\n",
            "entry ke-2 & 3 kolom ke-3 =  [1 7]\n"
          ]
        }
      ]
    },
    {
      "cell_type": "code",
      "source": [
        "A[2]\n",
        "print('baris ke-3 = ', A[2])\n",
        "print('entry ke-1 & 2 baris ke-3 = ', A[2,0:2])\n",
        "print('entry ke-2 & 3 kolom ke-3 = ', A[1:,2])"
      ],
      "metadata": {
        "colab": {
          "base_uri": "https://localhost:8080/"
        },
        "id": "hFLG6j1rtGF7",
        "outputId": "41e831a0-4d91-45e1-e1cc-ebddd27594aa"
      },
      "execution_count": 17,
      "outputs": [
        {
          "output_type": "stream",
          "name": "stdout",
          "text": [
            "baris ke-3 =  [3 6 7]\n",
            "entry ke-1 & 2 baris ke-3 =  [3 6]\n",
            "entry ke-2 & 3 kolom ke-3 =  [1 7]\n"
          ]
        }
      ]
    },
    {
      "cell_type": "code",
      "source": [
        "a[1:]\n",
        "print('baris ke-3 = ', A[2])\n",
        "print('entry ke-1 & 2 baris ke-3 = ', A[2,0:2])\n",
        "print('entry ke-2 & 3 kolom ke-3 = ', A[1:,2])"
      ],
      "metadata": {
        "colab": {
          "base_uri": "https://localhost:8080/"
        },
        "id": "Y5XJndujtSyx",
        "outputId": "80b25272-ecd4-404c-8101-05d5ee03fe07"
      },
      "execution_count": 18,
      "outputs": [
        {
          "output_type": "stream",
          "name": "stdout",
          "text": [
            "baris ke-3 =  [3 6 7]\n",
            "entry ke-1 & 2 baris ke-3 =  [3 6]\n",
            "entry ke-2 & 3 kolom ke-3 =  [1 7]\n"
          ]
        }
      ]
    },
    {
      "cell_type": "code",
      "source": [
        "import numpy as roy\n",
        "C = roy.array([[1, 3, 0], [2, 4, 1], [3, 6, 7]])\n",
        "C = A*A\n",
        "\n",
        "print('baris ke-3 = ', A[2])\n",
        "print('entry ke-1 & 2 baris ke-3 = ', A[2,0:2])\n",
        "print('entry ke-2 & 3 kolom ke-3 = ', A[1:,2])\n",
        "print('perkalian antar entry = ')\n",
        "print(C)"
      ],
      "metadata": {
        "colab": {
          "base_uri": "https://localhost:8080/"
        },
        "id": "U15KB4JMtb2k",
        "outputId": "3fbbbf53-de57-4b85-8d77-59c6fb704aa9"
      },
      "execution_count": 19,
      "outputs": [
        {
          "output_type": "stream",
          "name": "stdout",
          "text": [
            "baris ke-3 =  [3 6 7]\n",
            "entry ke-1 & 2 baris ke-3 =  [3 6]\n",
            "entry ke-2 & 3 kolom ke-3 =  [1 7]\n",
            "perkalian antar entry = \n",
            "[[ 1  9  0]\n",
            " [ 4 16  1]\n",
            " [ 9 36 49]]\n"
          ]
        }
      ]
    },
    {
      "cell_type": "code",
      "source": [
        "import numpy as roy"
      ],
      "metadata": {
        "id": "hZcsp-kJ5eFD"
      },
      "execution_count": 26,
      "outputs": []
    },
    {
      "cell_type": "code",
      "source": [
        "A = roy.array([[1, 2], [7,8]])\n",
        "B = roy.array([[3, 5], [1,6]])"
      ],
      "metadata": {
        "id": "NYcwSMy60tor"
      },
      "execution_count": 27,
      "outputs": []
    },
    {
      "cell_type": "code",
      "source": [
        "A = roy.array([[1, 2], [7,8]])\n",
        "print(\"Hasil dari 2*A : \", 2*A)\n",
        "print(\"Hasil dari 2+A : \", 2+A)\n",
        "print(\"Hasil dari A+B : \", A+B)\n",
        "print(\"Hasil dari Determinan A : \", roy.linalg.det(A))"
      ],
      "metadata": {
        "colab": {
          "base_uri": "https://localhost:8080/"
        },
        "id": "GOwUcSm355Lr",
        "outputId": "9b9592d9-81d7-4691-c4a4-85d5b9a8078b"
      },
      "execution_count": 29,
      "outputs": [
        {
          "output_type": "stream",
          "name": "stdout",
          "text": [
            "Hasil dari 2*A :  [[ 2  4]\n",
            " [14 16]]\n",
            "Hasil dari 2+A :  [[ 3  4]\n",
            " [ 9 10]]\n",
            "Hasil dari A+B :  [[ 4  7]\n",
            " [ 8 14]]\n",
            "Hasil dari Determinan A :  -6.0\n"
          ]
        }
      ]
    },
    {
      "cell_type": "code",
      "source": [
        "B = roy.array([[3, 5], [1,6]])\n",
        "print(\"Hasil dari 2*A : \", 2*A)\n",
        "print(\"Hasil dari 2+A : \", 2+A)\n",
        "print(\"Hasil dari A+B : \", A+B)\n",
        "print(\"Hasil dari Determinan A : \", roy.linalg.det(A))"
      ],
      "metadata": {
        "colab": {
          "base_uri": "https://localhost:8080/"
        },
        "id": "JADYLOF-6oJj",
        "outputId": "8c14b018-6766-4180-c5f9-3f114fdf664a"
      },
      "execution_count": 30,
      "outputs": [
        {
          "output_type": "stream",
          "name": "stdout",
          "text": [
            "Hasil dari 2*A :  [[ 2  4]\n",
            " [14 16]]\n",
            "Hasil dari 2+A :  [[ 3  4]\n",
            " [ 9 10]]\n",
            "Hasil dari A+B :  [[ 4  7]\n",
            " [ 8 14]]\n",
            "Hasil dari Determinan A :  -6.0\n"
          ]
        }
      ]
    },
    {
      "cell_type": "code",
      "source": [
        "A = roy.array([[1, 2], [7,8]])\n",
        "B = roy.array([[3, 5], [1,6]])\n",
        "print(\"Hasil dari 2*A : \", 2*A)\n",
        "print(\"Hasil dari 2+A : \", 2+A)\n",
        "print(\"Hasil dari A+B : \", A+B)\n",
        "print(\"Hasil dari Determinan A : \", roy.linalg.det(A))\n",
        "print(\"Hasil dari Determinan A : \", roy.linalg.det(B))"
      ],
      "metadata": {
        "colab": {
          "base_uri": "https://localhost:8080/"
        },
        "id": "OIyQsjj37AF9",
        "outputId": "bca32e70-f309-477a-fa86-1c211fc38eb0"
      },
      "execution_count": 31,
      "outputs": [
        {
          "output_type": "stream",
          "name": "stdout",
          "text": [
            "Hasil dari 2*A :  [[ 2  4]\n",
            " [14 16]]\n",
            "Hasil dari 2+A :  [[ 3  4]\n",
            " [ 9 10]]\n",
            "Hasil dari A+B :  [[ 4  7]\n",
            " [ 8 14]]\n",
            "Hasil dari Determinan A :  -6.0\n",
            "Hasil dari Determinan A :  13.000000000000005\n"
          ]
        }
      ]
    }
  ]
}