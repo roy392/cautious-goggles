{
  "cells": [
    {
      "cell_type": "markdown",
      "metadata": {
        "id": "view-in-github",
        "colab_type": "text"
      },
      "source": [
        "<a href=\"https://colab.research.google.com/github/roy392/cautious-goggles/blob/main/tugas1.ipynb\" target=\"_parent\"><img src=\"https://colab.research.google.com/assets/colab-badge.svg\" alt=\"Open In Colab\"/></a>"
      ]
    },
    {
      "cell_type": "markdown",
      "metadata": {
        "id": "5Vw1UhXWmJ3o"
      },
      "source": [
        ""
      ]
    },
    {
      "cell_type": "markdown",
      "metadata": {
        "id": "-JLYH_U9mLUD"
      },
      "source": [
        "no 2"
      ]
    },
    {
      "cell_type": "markdown",
      "metadata": {
        "id": "9DaSLTJ9rsg_"
      },
      "source": [
        ""
      ]
    },
    {
      "cell_type": "code",
      "execution_count": null,
      "metadata": {
        "colab": {
          "base_uri": "https://localhost:8080/"
        },
        "id": "1ru3vhexmeaF",
        "outputId": "fbbe1eb5-abd1-4265-fc85-224f4ee42e80"
      },
      "outputs": [
        {
          "name": "stdout",
          "output_type": "stream",
          "text": [
            "Hello!\n",
            "Enter something: Nisa\n"
          ]
        }
      ],
      "source": [
        "print(\"Hello!\")\n",
        "something = input(\"Enter something: \")"
      ]
    },
    {
      "cell_type": "code",
      "execution_count": null,
      "metadata": {
        "colab": {
          "base_uri": "https://localhost:8080/"
        },
        "id": "fnADBzM_nwBS",
        "outputId": "0577c205-4bda-456b-90c9-e36ef246cab0"
      },
      "outputs": [
        {
          "name": "stdout",
          "output_type": "stream",
          "text": [
            "You entered:  Nisa\n"
          ]
        }
      ],
      "source": [
        "print(\"You entered: \", something)"
      ]
    },
    {
      "cell_type": "markdown",
      "metadata": {
        "id": "y01GaG8voATh"
      },
      "source": [
        "no 3"
      ]
    },
    {
      "cell_type": "code",
      "execution_count": null,
      "metadata": {
        "colab": {
          "base_uri": "https://localhost:8080/"
        },
        "id": "_e3_e2IPoBf6",
        "outputId": "d3cd16ec-c2e3-4bfc-bd92-3247ed55d211"
      },
      "outputs": [
        {
          "name": "stdout",
          "output_type": "stream",
          "text": [
            "Hello!\n",
            "Enter something: hello\n"
          ]
        }
      ],
      "source": [
        "print('Hello!')\n",
        "something = input(\"Enter something: \")\n"
      ]
    },
    {
      "cell_type": "code",
      "execution_count": null,
      "metadata": {
        "colab": {
          "base_uri": "https://localhost:8080/"
        },
        "id": "3VA6qTzJoNyc",
        "outputId": "bf63c4b3-dbc8-4ea2-8e2a-cce66bf1382c"
      },
      "outputs": [
        {
          "name": "stdout",
          "output_type": "stream",
          "text": [
            "Hello for you too!\n"
          ]
        }
      ],
      "source": [
        "if something == 'hello':\n",
        "  print(\"Hello for you too!\")\n",
        "elif something == 'hi':\n",
        "  print('Hi there')\n",
        "else:\n",
        "  print(\"I don't know what \", something, \"means.\")"
      ]
    },
    {
      "cell_type": "markdown",
      "metadata": {
        "id": "pQBNoM_qpY5z"
      },
      "source": [
        "no 4"
      ]
    },
    {
      "cell_type": "code",
      "execution_count": null,
      "metadata": {
        "colab": {
          "background_save": true,
          "base_uri": "https://localhost:8080/"
        },
        "id": "1rfUAh-Dpaw7",
        "outputId": "63b47c4b-dd2f-423c-8e43-18155dca936f"
      },
      "outputs": [
        {
          "name": "stdout",
          "output_type": "stream",
          "text": [
            "Kamu Kalah! Kertas membungkus Batu\n",
            "Seri!\n"
          ]
        }
      ],
      "source": [
        "from random import randint\n",
        "\n",
        "\n",
        "# Buat list option untuk permainan\n",
        "Glist = [\"Gunting\", \"Batu\", \"Kertas\"]\n",
        "\n",
        "\n",
        "# Set pemain ke False\n",
        "pemain = False\n",
        "\n",
        "while pemain == False:\n",
        "# buat pilihan secara random dengan func randint\n",
        "    komputer = Glist[randint(0,2)]\n",
        "    #Set pemain ke True\n",
        "    pemain = input(\"Gunting, Batu, Kertas ? : \")\n",
        "    if pemain == komputer:\n",
        "        print(\"Seri!\")\n",
        "    elif pemain == \"Batu\":\n",
        "        if komputer == \"Kertas\":\n",
        "            print(\"Kamu Kalah!\", komputer, \"membungkus\", pemain)\n",
        "        else:\n",
        "            print(\"Kamu Menang!\", pemain, \"menghancurkan\", komputer)\n",
        "    elif pemain == \"Kertas\":\n",
        "        if komputer == \"Gunting\":\n",
        "            print(\"Kamu Kalah!\", komputer, \"memotong\", pemain)\n",
        "        else:\n",
        "            print(\"Kamu Menang!\", pemain, \"membungkus\", komputer)\n",
        "    elif pemain == \"Gunting\":\n",
        "        if komputer == \"Batu\":\n",
        "            print(\"Kamu Kalah!\", komputer, \"menghancurkan\", pemain)\n",
        "        else:\n",
        "            print(\"Kamu Menang!\", pemain, \"momotong\", komputer)\n",
        "    else:\n",
        "        print(\"Pilihan yang kamu masukan salah...\")\n",
        "\n",
        "    # Set pemain ke False lagi supaya terjadinya looping yang berulang\n",
        "\n",
        "    pemain = False\n",
        "komputer = Glist[randint(0,2)]"
      ]
    },
    {
      "cell_type": "code",
      "source": [
        "u = 10\n",
        "for x in range(u):\n",
        "   print(\"Perulangan ke-\"+str(x))"
      ],
      "metadata": {
        "id": "iy1hy-ONnurI",
        "outputId": "a34de974-ee66-4cc0-a503-e8eb88ced08c",
        "colab": {
          "base_uri": "https://localhost:8080/"
        }
      },
      "execution_count": null,
      "outputs": [
        {
          "output_type": "stream",
          "name": "stdout",
          "text": [
            "Perulangan ke-0\n",
            "Perulangan ke-1\n",
            "Perulangan ke-2\n",
            "Perulangan ke-3\n",
            "Perulangan ke-4\n",
            "Perulangan ke-5\n",
            "Perulangan ke-6\n",
            "Perulangan ke-7\n",
            "Perulangan ke-8\n",
            "Perulangan ke-9\n"
          ]
        }
      ]
    },
    {
      "cell_type": "markdown",
      "source": [
        "soal no 1 sesi 2"
      ],
      "metadata": {
        "id": "5s7Wl5NEn4fY"
      }
    },
    {
      "cell_type": "code",
      "source": [
        "while True:\n",
        "  print('namamu')\n",
        "  name = input()\n",
        "\n",
        "  if name == 'siapa':\n",
        "    break\n",
        "\n",
        "print('berhenti')"
      ],
      "metadata": {
        "id": "g59zh3PG258E",
        "outputId": "4e54bfbc-6811-49bb-aca2-a6a72ea7d99b",
        "colab": {
          "base_uri": "https://localhost:8080/"
        }
      },
      "execution_count": null,
      "outputs": [
        {
          "output_type": "stream",
          "name": "stdout",
          "text": [
            "namamu\n",
            "roy\n",
            "namamu\n",
            "berhenti\n",
            "namamu\n",
            "siapa\n",
            "berhenti\n"
          ]
        }
      ]
    },
    {
      "cell_type": "markdown",
      "source": [
        "soal no 2 sesi 2"
      ],
      "metadata": {
        "id": "vk7OdOOJqMlu"
      }
    },
    {
      "cell_type": "code",
      "source": [
        "pesan = \"ya\"\n",
        "list_pesanan = []\n",
        "\n",
        "while pesan == \"ya\":\n",
        "    print(f\"\"\"\n",
        "        MENU JAJANAN PASAR\n",
        "\n",
        "    1. Donat - Rp 1250\n",
        "    2. Bakwan - Rp 1000\n",
        "    3. Onde-onde - Rp 800\n",
        "    4. Lemper  - Rp 1250\n",
        "    5. Risol - Rp 1500\n",
        "    \"\"\")\n",
        "    input_user = input(\"Pilih pesanan: \")\n",
        "\n",
        "    if input_user == \"1\":\n",
        "        print(f\"Kamu memesan Donat dengan harga Rp 1250, terima kasih sudah berbelanja!\")\n",
        "        # list_pesanan.append(\"Donat\")\n",
        "    elif input_user == \"2\":\n",
        "        print(f\"Kamu memesan Bakwan dengan harga Rp 1000, terima kasih sudah berbelanja!\")\n",
        "    elif input_user == \"3\":\n",
        "        print(f\"Kamu memesan Onde-onde dengan harga Rp 800, terima kasih sudah berbelanja!\")\n",
        "    elif input_user == \"4\":\n",
        "        print(f\"Kamu memesan Lemper dengan harga Rp 1250, terima kasih sudah berbelanja!\")\n",
        "    elif input_user == \"5\":\n",
        "        print(f\"Kamu memesan Risol dengan harga Rp 1250, terima kasih sudah berbelanja!\")\n",
        "    else:\n",
        "        print(\"menu yang anda cari tidak ada\")\n",
        "\n",
        "    pesan = input(\"apakah anda ingin memesan lagi ? [ya/cukup] \")\n",
        "\n",
        "print(\"Terima kasih sudah membeli jajanan pasar\")\n",
        "# print(list_pesanan)"
      ],
      "metadata": {
        "id": "2xVT9QfTqSWh",
        "outputId": "50b5d522-ad3a-444f-9f54-f6f3023a9529",
        "colab": {
          "base_uri": "https://localhost:8080/"
        }
      },
      "execution_count": null,
      "outputs": [
        {
          "output_type": "stream",
          "name": "stdout",
          "text": [
            "\n",
            "        MENU JAJANAN PASAR\n",
            "\n",
            "    1. Donat - Rp 1250\n",
            "    2. Bakwan - Rp 1000\n",
            "    3. Onde-onde - Rp 800\n",
            "    4. Lemper  - Rp 1250\n",
            "    5. Risol - Rp 1500\n",
            "    \n",
            "Pilih pesanan: risol\n",
            "menu yang anda cari tidak ada\n",
            "apakah anda ingin memesan lagi ? [ya/cukup] cukup\n",
            "Terima kasih sudah membeli jajanan pasar\n"
          ]
        }
      ]
    }
  ],
  "metadata": {
    "colab": {
      "name": "Copy of sesi 1.ipynb",
      "provenance": [],
      "include_colab_link": true
    },
    "kernelspec": {
      "display_name": "Python 3",
      "name": "python3"
    },
    "language_info": {
      "name": "python"
    }
  },
  "nbformat": 4,
  "nbformat_minor": 0
}