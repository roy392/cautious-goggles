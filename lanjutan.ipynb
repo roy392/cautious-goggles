{
  "nbformat": 4,
  "nbformat_minor": 0,
  "metadata": {
    "colab": {
      "name": "04/03/2022.ipynb",
      "provenance": [],
      "collapsed_sections": [],
      "toc_visible": true,
      "include_colab_link": true
    },
    "kernelspec": {
      "name": "python3",
      "display_name": "Python 3"
    },
    "language_info": {
      "name": "python"
    }
  },
  "cells": [
    {
      "cell_type": "markdown",
      "metadata": {
        "id": "view-in-github",
        "colab_type": "text"
      },
      "source": [
        "<a href=\"https://colab.research.google.com/github/roy392/cautious-goggles/blob/main/lanjutan.ipynb\" target=\"_parent\"><img src=\"https://colab.research.google.com/assets/colab-badge.svg\" alt=\"Open In Colab\"/></a>"
      ]
    },
    {
      "cell_type": "markdown",
      "source": [
        "# Module 1 - Functions, String Manipulation, File IO, dan Error Handling"
      ],
      "metadata": {
        "id": "wbXxQ0bmmTAl"
      }
    },
    {
      "cell_type": "markdown",
      "source": [
        "# A. Functions"
      ],
      "metadata": {
        "id": "Z_-MYyp6mddE"
      }
    },
    {
      "cell_type": "markdown",
      "source": [
        "### 01 Built-in functions"
      ],
      "metadata": {
        "id": "ekiUD9C4mloh"
      }
    },
    {
      "cell_type": "code",
      "execution_count": null,
      "metadata": {
        "colab": {
          "base_uri": "https://localhost:8080/"
        },
        "id": "iurTuMb5ZWs3",
        "outputId": "0bfc37e5-a655-4c9e-ee18-8132f6fea71a"
      },
      "outputs": [
        {
          "output_type": "stream",
          "name": "stdout",
          "text": [
            "Type <class 'list'>\n",
            "Lenght 3\n",
            "Min Value 5\n",
            "Max Value 8\n"
          ]
        }
      ],
      "source": [
        "num = [8, 5, 6]\n",
        "\n",
        "print('Type', type(num))\n",
        "print('Lenght', len(num))\n",
        "print('Min Value', min(num))\n",
        "print('Max Value', max(num))"
      ]
    },
    {
      "cell_type": "code",
      "source": [
        "input()"
      ],
      "metadata": {
        "colab": {
          "base_uri": "https://localhost:8080/",
          "height": 53
        },
        "id": "n1edhFdqmayL",
        "outputId": "23c65918-6f2a-4bc2-96ff-fb3dc5273631"
      },
      "execution_count": null,
      "outputs": [
        {
          "name": "stdout",
          "output_type": "stream",
          "text": [
            "Hi\n"
          ]
        },
        {
          "output_type": "execute_result",
          "data": {
            "application/vnd.google.colaboratory.intrinsic+json": {
              "type": "string"
            },
            "text/plain": [
              "'Hi'"
            ]
          },
          "metadata": {},
          "execution_count": 2
        }
      ]
    },
    {
      "cell_type": "markdown",
      "source": [
        "#### Form pada Colab / Sebagai input\n",
        "\n",
        "https://colab.research.google.com/notebooks/forms.ipynb#scrollTo=3jKM6GfzlgpS"
      ],
      "metadata": {
        "id": "S0tTEiLwH1Io"
      }
    },
    {
      "cell_type": "code",
      "source": [
        "#@title Contoh Form\n",
        "\n",
        "text = '1e-5' #@param {type:'string'}\n",
        "number =  5#@param {type:\"number\"}\n",
        "\n"
      ],
      "metadata": {
        "id": "1mX0KfbhnCaa"
      },
      "execution_count": null,
      "outputs": []
    },
    {
      "cell_type": "code",
      "source": [
        "type(number)"
      ],
      "metadata": {
        "colab": {
          "base_uri": "https://localhost:8080/"
        },
        "id": "bG6iz8lWnppG",
        "outputId": "1c147264-6040-453c-8aeb-d2bf04e4239b"
      },
      "execution_count": null,
      "outputs": [
        {
          "output_type": "execute_result",
          "data": {
            "text/plain": [
              "int"
            ]
          },
          "metadata": {},
          "execution_count": 5
        }
      ]
    },
    {
      "cell_type": "markdown",
      "source": [
        "## 02 User-defined Function"
      ],
      "metadata": {
        "id": "g_10wTmrn_WX"
      }
    },
    {
      "cell_type": "markdown",
      "source": [
        "### Simple Function"
      ],
      "metadata": {
        "id": "oiJuMPy7oFyO"
      }
    },
    {
      "cell_type": "code",
      "source": [
        "# Function sederhana\n",
        "def beri_salam():\n",
        "  print('Selamat Pagi!')"
      ],
      "metadata": {
        "id": "iIaC8lmTnq_e"
      },
      "execution_count": null,
      "outputs": []
    },
    {
      "cell_type": "code",
      "source": [
        "def beri_semangat():\n",
        "  print('Semangat Belajar!')"
      ],
      "metadata": {
        "id": "y0DTWlGPoTO3"
      },
      "execution_count": null,
      "outputs": []
    },
    {
      "cell_type": "code",
      "source": [
        "beri_salam()"
      ],
      "metadata": {
        "colab": {
          "base_uri": "https://localhost:8080/"
        },
        "id": "TRETtoIkoWlN",
        "outputId": "e64a6b04-3d32-4ceb-e3e4-271e20a805a7"
      },
      "execution_count": null,
      "outputs": [
        {
          "output_type": "stream",
          "name": "stdout",
          "text": [
            "Selamat Pagi!\n"
          ]
        }
      ]
    },
    {
      "cell_type": "code",
      "source": [
        "beri_semangat()"
      ],
      "metadata": {
        "colab": {
          "base_uri": "https://localhost:8080/"
        },
        "id": "plwYdHT8obK9",
        "outputId": "d7422cd5-3361-45bd-ea5c-dc11cceda2c4"
      },
      "execution_count": null,
      "outputs": [
        {
          "output_type": "stream",
          "name": "stdout",
          "text": [
            "Semangat Belajar!\n"
          ]
        }
      ]
    },
    {
      "cell_type": "code",
      "source": [
        "beri_salam()\n",
        "beri_semangat()\n",
        "beri_semangat()\n",
        "beri_semangat()"
      ],
      "metadata": {
        "colab": {
          "base_uri": "https://localhost:8080/"
        },
        "id": "wZTSg-eToeCN",
        "outputId": "98457b43-485e-45de-cbba-c15ff9f1c47a"
      },
      "execution_count": null,
      "outputs": [
        {
          "output_type": "stream",
          "name": "stdout",
          "text": [
            "Selamat Pagi!\n",
            "Semangat Belajar!\n",
            "Semangat Belajar!\n",
            "Semangat Belajar!\n"
          ]
        }
      ]
    },
    {
      "cell_type": "code",
      "source": [
        "print('Selamat Pagi!')\n",
        "print('Selamat Pagi!')\n",
        "print('Selamat Pagi!')"
      ],
      "metadata": {
        "colab": {
          "base_uri": "https://localhost:8080/"
        },
        "id": "E5mhQSQwoir0",
        "outputId": "4d8e44d8-f5fd-4b4d-c1f3-22a67a1cb3bb"
      },
      "execution_count": null,
      "outputs": [
        {
          "output_type": "stream",
          "name": "stdout",
          "text": [
            "Selamat Pagi!\n",
            "Selamat Pagi!\n",
            "Selamat Pagi!\n"
          ]
        }
      ]
    },
    {
      "cell_type": "markdown",
      "source": [
        "### Fruitful Functions\n",
        "\n",
        "Mengembalikan nilai pada suatu function"
      ],
      "metadata": {
        "id": "5Z_4R-7hpDbp"
      }
    },
    {
      "cell_type": "code",
      "source": [
        "def angka_misterius():\n",
        "  return 89348"
      ],
      "metadata": {
        "id": "nRNdrlMNolhd"
      },
      "execution_count": null,
      "outputs": []
    },
    {
      "cell_type": "code",
      "source": [
        "angka_misterius()"
      ],
      "metadata": {
        "colab": {
          "base_uri": "https://localhost:8080/"
        },
        "id": "v9f4fBCfpOtt",
        "outputId": "fb163831-681c-4483-f279-741a51e2cb25"
      },
      "execution_count": null,
      "outputs": [
        {
          "output_type": "execute_result",
          "data": {
            "text/plain": [
              "89348"
            ]
          },
          "metadata": {},
          "execution_count": 14
        }
      ]
    },
    {
      "cell_type": "code",
      "source": [
        "def nama_saya():\n",
        "  return 'Cahyo'"
      ],
      "metadata": {
        "id": "G209g7K3pQez"
      },
      "execution_count": null,
      "outputs": []
    },
    {
      "cell_type": "code",
      "source": [
        "nama_saya()"
      ],
      "metadata": {
        "colab": {
          "base_uri": "https://localhost:8080/",
          "height": 35
        },
        "id": "zyQ8toWipWkM",
        "outputId": "538ade7f-6f08-4c88-efa7-0a6cd41f20ae"
      },
      "execution_count": null,
      "outputs": [
        {
          "output_type": "execute_result",
          "data": {
            "application/vnd.google.colaboratory.intrinsic+json": {
              "type": "string"
            },
            "text/plain": [
              "'Cahyo'"
            ]
          },
          "metadata": {},
          "execution_count": 16
        }
      ]
    },
    {
      "cell_type": "code",
      "source": [
        "'''\n",
        "Rumus hitung luas persegi panjang: L = p * l\n",
        "'''\n",
        "\n",
        "def hitung_luas():\n",
        "  panjang = 4\n",
        "  lebar = 3\n",
        "  luas = panjang * lebar\n",
        "  return print('Luas persegi panjang', luas)"
      ],
      "metadata": {
        "id": "gl3-X7K0pYSz"
      },
      "execution_count": null,
      "outputs": []
    },
    {
      "cell_type": "code",
      "source": [
        "hitung_luas()"
      ],
      "metadata": {
        "colab": {
          "base_uri": "https://localhost:8080/"
        },
        "id": "1ZeECuH6plPP",
        "outputId": "6e9a7ad8-56d3-4c16-8bd9-a1abd5cc0808"
      },
      "execution_count": null,
      "outputs": [
        {
          "output_type": "stream",
          "name": "stdout",
          "text": [
            "Luas persegi panjang 12\n"
          ]
        }
      ]
    },
    {
      "cell_type": "code",
      "source": [
        "luas_rumah = hitung_luas()"
      ],
      "metadata": {
        "id": "gH2CuroXpm-b"
      },
      "execution_count": null,
      "outputs": []
    },
    {
      "cell_type": "code",
      "source": [
        "print('Luas ruma saya adalah', luas_rumah, 'meter persegi')"
      ],
      "metadata": {
        "colab": {
          "base_uri": "https://localhost:8080/"
        },
        "id": "cCzHIcXUqlin",
        "outputId": "88767b1d-410e-4896-e31a-99566770c785"
      },
      "execution_count": null,
      "outputs": [
        {
          "output_type": "stream",
          "name": "stdout",
          "text": [
            "Luas ruma saya adalah None meter persegi\n"
          ]
        }
      ]
    },
    {
      "cell_type": "code",
      "source": [
        "# dapat mengembalikan lebih dari 1 value\n",
        "def hitung_luas():\n",
        "  panjang = 4\n",
        "  lebar = 3\n",
        "  luas = panjang * lebar\n",
        "  return panjang, lebar, luas"
      ],
      "metadata": {
        "id": "G7hKnlslrxSg"
      },
      "execution_count": null,
      "outputs": []
    },
    {
      "cell_type": "code",
      "source": [
        "luas = hitung_luas()"
      ],
      "metadata": {
        "id": "VJN3lBiAr7NI"
      },
      "execution_count": null,
      "outputs": []
    },
    {
      "cell_type": "code",
      "source": [
        "print(luas)\n",
        "print(type(luas))"
      ],
      "metadata": {
        "colab": {
          "base_uri": "https://localhost:8080/"
        },
        "id": "mH1nQau9r-MP",
        "outputId": "251b9089-c9b9-4d2a-f8d6-8b77e84afa60"
      },
      "execution_count": null,
      "outputs": [
        {
          "output_type": "stream",
          "name": "stdout",
          "text": [
            "(4, 3, 12)\n",
            "<class 'tuple'>\n"
          ]
        }
      ]
    },
    {
      "cell_type": "code",
      "source": [
        "p, l, L = hitung_luas()\n",
        "print(f'Luas rumah dengan panjang {p} dan lebar {l} adalah {L}')"
      ],
      "metadata": {
        "colab": {
          "base_uri": "https://localhost:8080/"
        },
        "id": "ObYIfJFIsGwv",
        "outputId": "fb5980ea-b181-43f7-f489-d8c2a751c07d"
      },
      "execution_count": null,
      "outputs": [
        {
          "output_type": "stream",
          "name": "stdout",
          "text": [
            "Luas rumah dengan panjang 4 dan lebar 3 adalah 12\n"
          ]
        }
      ]
    },
    {
      "cell_type": "markdown",
      "source": [
        "### Function with Parameters"
      ],
      "metadata": {
        "id": "KTeVtYsvt7cf"
      }
    },
    {
      "cell_type": "code",
      "source": [
        "def beri_salam(nama):\n",
        "  print('Selamat pagi', nama)"
      ],
      "metadata": {
        "id": "Po8rTpGGuJW2"
      },
      "execution_count": null,
      "outputs": []
    },
    {
      "cell_type": "code",
      "source": [
        "beri_salam('Irvan')"
      ],
      "metadata": {
        "colab": {
          "base_uri": "https://localhost:8080/"
        },
        "id": "-YfD2tUuuSuV",
        "outputId": "d7627994-35ee-4e2c-f279-dbe16ed2be8f"
      },
      "execution_count": null,
      "outputs": [
        {
          "output_type": "stream",
          "name": "stdout",
          "text": [
            "Selamat pagi Irvan\n"
          ]
        }
      ]
    },
    {
      "cell_type": "code",
      "source": [
        "beri_salam('Feby')"
      ],
      "metadata": {
        "colab": {
          "base_uri": "https://localhost:8080/"
        },
        "id": "0UDRYJ4tuaIU",
        "outputId": "aa8424bc-31ac-45d7-cdf2-0df713abce3d"
      },
      "execution_count": null,
      "outputs": [
        {
          "output_type": "stream",
          "name": "stdout",
          "text": [
            "Selamat pagi Feby\n"
          ]
        }
      ]
    },
    {
      "cell_type": "code",
      "source": [
        "beri_salam('Indah')"
      ],
      "metadata": {
        "colab": {
          "base_uri": "https://localhost:8080/"
        },
        "id": "sNs9cEixufdU",
        "outputId": "312eac98-0311-4403-fc0c-aaf7512fa28a"
      },
      "execution_count": null,
      "outputs": [
        {
          "output_type": "stream",
          "name": "stdout",
          "text": [
            "Selamat pagi Indah\n"
          ]
        }
      ]
    },
    {
      "cell_type": "code",
      "source": [
        "beri_salam()"
      ],
      "metadata": {
        "colab": {
          "base_uri": "https://localhost:8080/",
          "height": 165
        },
        "id": "Jq1dn_MouhwE",
        "outputId": "280ef95e-04b1-4282-a0ee-78935626a90c"
      },
      "execution_count": null,
      "outputs": [
        {
          "output_type": "error",
          "ename": "TypeError",
          "evalue": "ignored",
          "traceback": [
            "\u001b[0;31m---------------------------------------------------------------------------\u001b[0m",
            "\u001b[0;31mTypeError\u001b[0m                                 Traceback (most recent call last)",
            "\u001b[0;32m<ipython-input-47-19e986b0a968>\u001b[0m in \u001b[0;36m<module>\u001b[0;34m()\u001b[0m\n\u001b[0;32m----> 1\u001b[0;31m \u001b[0mberi_salam\u001b[0m\u001b[0;34m(\u001b[0m\u001b[0;34m)\u001b[0m\u001b[0;34m\u001b[0m\u001b[0;34m\u001b[0m\u001b[0m\n\u001b[0m",
            "\u001b[0;31mTypeError\u001b[0m: beri_salam() missing 1 required positional argument: 'nama'"
          ]
        }
      ]
    },
    {
      "cell_type": "code",
      "source": [
        "def beri_salam(nama='Cahyo'):\n",
        "  print('Selamat pagi', nama)"
      ],
      "metadata": {
        "id": "pBSPXNRJumnM"
      },
      "execution_count": null,
      "outputs": []
    },
    {
      "cell_type": "code",
      "source": [
        "beri_salam()"
      ],
      "metadata": {
        "colab": {
          "base_uri": "https://localhost:8080/"
        },
        "id": "OQI2yBlUu1vs",
        "outputId": "33286043-66c2-4c1b-ca1a-364697bf9ba1"
      },
      "execution_count": null,
      "outputs": [
        {
          "output_type": "stream",
          "name": "stdout",
          "text": [
            "Selamat pagi Cahyo\n"
          ]
        }
      ]
    },
    {
      "cell_type": "code",
      "source": [
        "beri_salam('Dina')"
      ],
      "metadata": {
        "colab": {
          "base_uri": "https://localhost:8080/"
        },
        "id": "89yQutYlu3kV",
        "outputId": "14e8708a-77c5-4858-abe1-c694a837074d"
      },
      "execution_count": null,
      "outputs": [
        {
          "output_type": "stream",
          "name": "stdout",
          "text": [
            "Selamat pagi Dina\n"
          ]
        }
      ]
    },
    {
      "cell_type": "code",
      "source": [
        "def hitung_luas(panjang=4, lebar=3):\n",
        "  luas = panjang * lebar\n",
        "  return panjang, lebar, luas"
      ],
      "metadata": {
        "id": "vzWz_BW8u8vE"
      },
      "execution_count": null,
      "outputs": []
    },
    {
      "cell_type": "code",
      "source": [
        "hitung_luas(5, 10)"
      ],
      "metadata": {
        "colab": {
          "base_uri": "https://localhost:8080/"
        },
        "id": "aZI_6kThvMxb",
        "outputId": "46e63997-5aee-4b6a-eede-5969bf9ade2a"
      },
      "execution_count": null,
      "outputs": [
        {
          "output_type": "execute_result",
          "data": {
            "text/plain": [
              "(5, 10, 50)"
            ]
          },
          "metadata": {},
          "execution_count": 54
        }
      ]
    },
    {
      "cell_type": "code",
      "source": [
        "def f(x):\n",
        "  return 5-(5/2)*x"
      ],
      "metadata": {
        "id": "vrnnLg5NvOQE"
      },
      "execution_count": null,
      "outputs": []
    },
    {
      "cell_type": "code",
      "source": [
        "f(4)"
      ],
      "metadata": {
        "colab": {
          "base_uri": "https://localhost:8080/"
        },
        "id": "G-lQK14gveHD",
        "outputId": "d73774b7-358b-4ebe-cdd3-0d256b2b8909"
      },
      "execution_count": null,
      "outputs": [
        {
          "output_type": "execute_result",
          "data": {
            "text/plain": [
              "-5.0"
            ]
          },
          "metadata": {},
          "execution_count": 60
        }
      ]
    },
    {
      "cell_type": "code",
      "source": [
        "def bio(nama, usia, gender, jurusan):\n",
        "  print('nama       :', nama)\n",
        "  print('usia       :', usia)\n",
        "  print('gender     :', gender)\n",
        "  print('jurusan    :', jurusan)"
      ],
      "metadata": {
        "id": "noWjvrewvnky"
      },
      "execution_count": null,
      "outputs": []
    },
    {
      "cell_type": "code",
      "source": [
        "bio('Cahyo', 27, 'L', 'Inforamtika')"
      ],
      "metadata": {
        "colab": {
          "base_uri": "https://localhost:8080/"
        },
        "id": "R_Q95fdzv7BZ",
        "outputId": "f258eda6-58ae-42fe-e071-bc25b03393e4"
      },
      "execution_count": null,
      "outputs": [
        {
          "output_type": "stream",
          "name": "stdout",
          "text": [
            "nama       : Cahyo\n",
            "usia       : 27\n",
            "gender     : L\n",
            "jurusan    : Inforamtika\n"
          ]
        }
      ]
    },
    {
      "cell_type": "code",
      "source": [
        "bio(27, 'Cahyo', 'Informatika', 'L')"
      ],
      "metadata": {
        "colab": {
          "base_uri": "https://localhost:8080/"
        },
        "id": "Z01UGntpv8K6",
        "outputId": "10a46f7c-71b3-4211-e267-7ba874074251"
      },
      "execution_count": null,
      "outputs": [
        {
          "output_type": "stream",
          "name": "stdout",
          "text": [
            "nama       : 27\n",
            "usia       : Cahyo\n",
            "gender     : Informatika\n",
            "jurusan    : L\n"
          ]
        }
      ]
    },
    {
      "cell_type": "code",
      "source": [
        "bio(usia=27, nama='Cahyo', jurusan='Informatika', gender='L')"
      ],
      "metadata": {
        "colab": {
          "base_uri": "https://localhost:8080/"
        },
        "id": "ZWZeuiaMwpJa",
        "outputId": "9e138236-b4b8-4197-f24d-4a0054a07914"
      },
      "execution_count": null,
      "outputs": [
        {
          "output_type": "stream",
          "name": "stdout",
          "text": [
            "nama       : Cahyo\n",
            "usia       : 27\n",
            "gender     : L\n",
            "jurusan    : Informatika\n"
          ]
        }
      ]
    },
    {
      "cell_type": "code",
      "source": [
        "# Fungsi dalam fungsi\n",
        "\n",
        "def beri_salam(nama):\n",
        "  print('Selamat pagi', nama)\n",
        "\n",
        "def beri_semangat(nama):\n",
        "  print('Semangat Belajarnya !!!!', nama)\n",
        "\n",
        "def bio(nama, usia, gender, jurusan):\n",
        "  beri_salam(nama)\n",
        "  print('\\nnama       :', nama)\n",
        "  print('usia       :', usia)\n",
        "  print('gender     :', gender)\n",
        "  print('jurusan    :', jurusan, '\\n')\n",
        "  beri_semangat(nama)"
      ],
      "metadata": {
        "id": "q_e6eP_Hwv6a"
      },
      "execution_count": null,
      "outputs": []
    },
    {
      "cell_type": "code",
      "source": [
        "bio(usia=27, nama='Cahyo', jurusan='Informatika', gender='L')"
      ],
      "metadata": {
        "colab": {
          "base_uri": "https://localhost:8080/"
        },
        "id": "V5fLMnJ-xKhL",
        "outputId": "026d0949-ed06-4d22-8728-6c6bbea68d15"
      },
      "execution_count": null,
      "outputs": [
        {
          "output_type": "stream",
          "name": "stdout",
          "text": [
            "Selamat pagi Cahyo\n",
            "\n",
            "nama       : Cahyo\n",
            "usia       : 27\n",
            "gender     : L\n",
            "jurusan    : Informatika \n",
            "\n",
            "Semangat Belajarnya !!!! Cahyo\n"
          ]
        }
      ]
    },
    {
      "cell_type": "markdown",
      "source": [
        "### Global & Local Scope"
      ],
      "metadata": {
        "id": "1-34LJuKyFLn"
      }
    },
    {
      "cell_type": "code",
      "source": [
        "nilai = 100             # Global variable\n",
        "\n",
        "# tulis function\n",
        "def tambah():\n",
        "  print(nilai + 50)"
      ],
      "metadata": {
        "id": "wnmJHOJLyHvw"
      },
      "execution_count": null,
      "outputs": []
    },
    {
      "cell_type": "code",
      "source": [
        "tambah()"
      ],
      "metadata": {
        "colab": {
          "base_uri": "https://localhost:8080/"
        },
        "id": "1JPQEV3ryPyI",
        "outputId": "e5cb15b6-0627-40cf-9d81-0e7dc4e60748"
      },
      "execution_count": null,
      "outputs": [
        {
          "output_type": "stream",
          "name": "stdout",
          "text": [
            "150\n"
          ]
        }
      ]
    },
    {
      "cell_type": "code",
      "source": [
        "# menulis varibel di dalam function\n",
        "def tambah2():\n",
        "  nilai_3 = 50          # Local Variabel"
      ],
      "metadata": {
        "id": "spC36qMTyRS2"
      },
      "execution_count": null,
      "outputs": []
    },
    {
      "cell_type": "code",
      "source": [
        "print(nilai)"
      ],
      "metadata": {
        "colab": {
          "base_uri": "https://localhost:8080/"
        },
        "id": "1-e08t2iynk2",
        "outputId": "13699bf0-501b-44ae-d640-87383c957ba5"
      },
      "execution_count": null,
      "outputs": [
        {
          "output_type": "stream",
          "name": "stdout",
          "text": [
            "100\n"
          ]
        }
      ]
    },
    {
      "cell_type": "code",
      "source": [
        "print(nilai_3)"
      ],
      "metadata": {
        "colab": {
          "base_uri": "https://localhost:8080/",
          "height": 165
        },
        "id": "n0camT7eybt5",
        "outputId": "19795db8-1cd2-45ef-a5dc-11aeb37bbf3c"
      },
      "execution_count": null,
      "outputs": [
        {
          "output_type": "error",
          "ename": "NameError",
          "evalue": "ignored",
          "traceback": [
            "\u001b[0;31m---------------------------------------------------------------------------\u001b[0m",
            "\u001b[0;31mNameError\u001b[0m                                 Traceback (most recent call last)",
            "\u001b[0;32m<ipython-input-91-11e1eae6c50d>\u001b[0m in \u001b[0;36m<module>\u001b[0;34m()\u001b[0m\n\u001b[0;32m----> 1\u001b[0;31m \u001b[0mprint\u001b[0m\u001b[0;34m(\u001b[0m\u001b[0mnilai_3\u001b[0m\u001b[0;34m)\u001b[0m\u001b[0;34m\u001b[0m\u001b[0;34m\u001b[0m\u001b[0m\n\u001b[0m",
            "\u001b[0;31mNameError\u001b[0m: name 'nilai_3' is not defined"
          ]
        }
      ]
    },
    {
      "cell_type": "code",
      "source": [
        "def tambah2():\n",
        "  global nilai_2      # Definisikan sebagai global varibel\n",
        "  nilai_2 = 50  "
      ],
      "metadata": {
        "id": "PMdeQPqtydve"
      },
      "execution_count": null,
      "outputs": []
    },
    {
      "cell_type": "code",
      "source": [
        "print(nilai_2)"
      ],
      "metadata": {
        "colab": {
          "base_uri": "https://localhost:8080/"
        },
        "id": "dFmZE7yvywM3",
        "outputId": "81e4f26f-3a57-45f0-f6bb-5b7551f9a565"
      },
      "execution_count": null,
      "outputs": [
        {
          "output_type": "stream",
          "name": "stdout",
          "text": [
            "50\n"
          ]
        }
      ]
    },
    {
      "cell_type": "code",
      "source": [
        "# Global\n",
        "panjang = 5\n",
        "lebar = 4\n",
        "\n",
        "def hitung_luas():\n",
        "  luas = panjang * lebar\n",
        "  return luas"
      ],
      "metadata": {
        "id": "LbUF2Oe6yxcP"
      },
      "execution_count": null,
      "outputs": []
    },
    {
      "cell_type": "code",
      "source": [
        "hitung_luas()\n",
        "print(panjang)\n",
        "print(hitung_luas)"
      ],
      "metadata": {
        "colab": {
          "base_uri": "https://localhost:8080/"
        },
        "id": "P83K_jVezxyo",
        "outputId": "3917645a-0547-4a84-9c5f-62a910090446"
      },
      "execution_count": null,
      "outputs": [
        {
          "output_type": "stream",
          "name": "stdout",
          "text": [
            "5\n",
            "<function hitung_luas at 0x7f92b2b045f0>\n"
          ]
        }
      ]
    },
    {
      "cell_type": "code",
      "source": [
        "def hitung_luas2():\n",
        "  # Local\n",
        "  global panjang2\n",
        "  panjang2 = 5\n",
        "  lebar2 = 4\n",
        "  luas2 = panjang2 * lebar2\n",
        "  return luas2"
      ],
      "metadata": {
        "id": "KL27MZ-tzyuV"
      },
      "execution_count": null,
      "outputs": []
    },
    {
      "cell_type": "code",
      "source": [
        "hitung_luas2()"
      ],
      "metadata": {
        "colab": {
          "base_uri": "https://localhost:8080/"
        },
        "id": "4DzWa7J30I1Q",
        "outputId": "5a195633-7d4b-4666-d5ce-7634d17e7fec"
      },
      "execution_count": null,
      "outputs": [
        {
          "output_type": "execute_result",
          "data": {
            "text/plain": [
              "20"
            ]
          },
          "metadata": {},
          "execution_count": 107
        }
      ]
    },
    {
      "cell_type": "code",
      "source": [
        "print(panjang2)"
      ],
      "metadata": {
        "colab": {
          "base_uri": "https://localhost:8080/"
        },
        "id": "64R5Y3Bk0KWM",
        "outputId": "fb4ef599-fadc-449e-ebf6-5fdfb7f166d6"
      },
      "execution_count": null,
      "outputs": [
        {
          "output_type": "stream",
          "name": "stdout",
          "text": [
            "5\n"
          ]
        }
      ]
    },
    {
      "cell_type": "markdown",
      "source": [
        "### Docstring"
      ],
      "metadata": {
        "id": "Be2Br3Xr1hLC"
      }
    },
    {
      "cell_type": "code",
      "source": [
        "def hitung_nilai(presensi, tugas, uts, uas):\n",
        "  nilai_akhir = presensi*0.1 + tugas*0.2 + uts*0.3 + uas*0.4\n",
        "\n",
        "  if nilai_akhir >= 80:\n",
        "    return 'A'\n",
        "  elif nilai_akhir >= 70:\n",
        "    return 'B'\n",
        "  elif nilai_akhir >= 60:\n",
        "    return 'C'\n",
        "  else:\n",
        "    return 'Tidak Lulus'"
      ],
      "metadata": {
        "id": "w3Nxhque1iYS"
      },
      "execution_count": null,
      "outputs": []
    },
    {
      "cell_type": "code",
      "source": [
        "def hitung_nilai(presensi, tugas, uts, uas):\n",
        "  \"\"\"Menghitung nilai akhir dan mengambalikan grade berdasarkan nilai akhir\"\"\"\n",
        "  nilai_akhir = presensi*0.1 + tugas*0.2 + uts*0.3 + uas*0.4\n",
        "\n",
        "  if nilai_akhir >= 80:\n",
        "    return 'A'\n",
        "  elif nilai_akhir >= 70:\n",
        "    return 'B'\n",
        "  elif nilai_akhir >= 60:\n",
        "    return 'C'\n",
        "  else:\n",
        "    return 'Tidak Lulus'"
      ],
      "metadata": {
        "id": "w9h3pIdO16uZ"
      },
      "execution_count": null,
      "outputs": []
    },
    {
      "cell_type": "code",
      "source": [
        "help(hitung_nilai)"
      ],
      "metadata": {
        "colab": {
          "base_uri": "https://localhost:8080/"
        },
        "id": "nJBuiZ3K2MmO",
        "outputId": "a2f33042-a6b5-4299-ee6b-c97d8261bfc9"
      },
      "execution_count": null,
      "outputs": [
        {
          "output_type": "stream",
          "name": "stdout",
          "text": [
            "Help on function hitung_nilai in module __main__:\n",
            "\n",
            "hitung_nilai(presensi, tugas, uts, uas)\n",
            "    Menghitung nilai akhir dan mengambalikan grade berdasarkan nilai akhir\n",
            "\n"
          ]
        }
      ]
    },
    {
      "cell_type": "code",
      "source": [
        "hitung_nilai?"
      ],
      "metadata": {
        "id": "zJWEMeUv2O4h"
      },
      "execution_count": null,
      "outputs": []
    },
    {
      "cell_type": "code",
      "source": [
        "def hitung_nilai(presensi, tugas, uts, uas):\n",
        "  \"\"\"\n",
        "  Menghitung nilai akhir dan mengambalikan grade berdasarkan nilai akhir\n",
        "  \n",
        "  Keyword arguments:\n",
        "  presensi -- nilai kehadiran. int\n",
        "  tugas -- nilai tugas. int\n",
        "  uts -- nilai UTS. float\n",
        "  uas -- nilai UAS. float\n",
        "  \"\"\"\n",
        "  nilai_akhir = presensi*0.1 + tugas*0.2 + uts*0.3 + uas*0.4\n",
        "\n",
        "  if nilai_akhir >= 80:\n",
        "    return 'A'\n",
        "  elif nilai_akhir >= 70:\n",
        "    return 'B'\n",
        "  elif nilai_akhir >= 60:\n",
        "    return 'C'\n",
        "  else:\n",
        "    return 'Tidak Lulus'"
      ],
      "metadata": {
        "id": "ioUs1VhN2VkB"
      },
      "execution_count": null,
      "outputs": []
    },
    {
      "cell_type": "code",
      "source": [
        "help(hitung_nilai)"
      ],
      "metadata": {
        "colab": {
          "base_uri": "https://localhost:8080/"
        },
        "id": "6mgBU4--2oJG",
        "outputId": "1a8ed100-6d56-490f-e0b0-733f93543609"
      },
      "execution_count": null,
      "outputs": [
        {
          "output_type": "stream",
          "name": "stdout",
          "text": [
            "Help on function hitung_nilai in module __main__:\n",
            "\n",
            "hitung_nilai(presensi, tugas, uts, uas)\n",
            "    Menghitung nilai akhir dan mengambalikan grade berdasarkan nilai akhir\n",
            "    \n",
            "    Keyword arguments:\n",
            "    presensi -- nilai kehadiran. int\n",
            "    tugas -- nilai tugas. int\n",
            "    uts -- nilai UTS. float\n",
            "    uas -- nilai UAS. float\n",
            "\n"
          ]
        }
      ]
    },
    {
      "cell_type": "code",
      "source": [
        "hitung_nilai"
      ],
      "metadata": {
        "id": "W5T4kT3w2pVR"
      },
      "execution_count": null,
      "outputs": []
    },
    {
      "cell_type": "markdown",
      "source": [
        "## 03 Lambda Functions"
      ],
      "metadata": {
        "id": "9ToGlet87ADj"
      }
    },
    {
      "cell_type": "code",
      "source": [
        "# function\n",
        "def luas_persegi(s):\n",
        "  return s*s"
      ],
      "metadata": {
        "id": "lcyjAoHB7CTr"
      },
      "execution_count": null,
      "outputs": []
    },
    {
      "cell_type": "code",
      "source": [
        "luas_persegi(5)"
      ],
      "metadata": {
        "colab": {
          "base_uri": "https://localhost:8080/"
        },
        "id": "LKqfApyi7Lna",
        "outputId": "66687226-c962-465d-9878-7ac742ee0849"
      },
      "execution_count": null,
      "outputs": [
        {
          "output_type": "execute_result",
          "data": {
            "text/plain": [
              "25"
            ]
          },
          "metadata": {},
          "execution_count": 116
        }
      ]
    },
    {
      "cell_type": "code",
      "source": [
        "luas_persegi(10)"
      ],
      "metadata": {
        "colab": {
          "base_uri": "https://localhost:8080/"
        },
        "id": "Ocdf8SmI7dyu",
        "outputId": "aa680768-0934-46ac-9720-0d25552b65e0"
      },
      "execution_count": null,
      "outputs": [
        {
          "output_type": "execute_result",
          "data": {
            "text/plain": [
              "100"
            ]
          },
          "metadata": {},
          "execution_count": 118
        }
      ]
    },
    {
      "cell_type": "code",
      "source": [
        "# lambda function tanpa nama\n",
        "(lambda s:s*s)(5)"
      ],
      "metadata": {
        "colab": {
          "base_uri": "https://localhost:8080/"
        },
        "id": "-ZqV8IZy7OSd",
        "outputId": "3775cb17-0843-4a11-b859-a3202efbdfa1"
      },
      "execution_count": null,
      "outputs": [
        {
          "output_type": "execute_result",
          "data": {
            "text/plain": [
              "25"
            ]
          },
          "metadata": {},
          "execution_count": 117
        }
      ]
    },
    {
      "cell_type": "code",
      "source": [
        "# lambda function dengan nama\n",
        "luas_persegi2 = lambda s:s*s"
      ],
      "metadata": {
        "id": "gRwhTTJS7ZyS"
      },
      "execution_count": null,
      "outputs": []
    },
    {
      "cell_type": "code",
      "source": [
        "luas_persegi2(5)"
      ],
      "metadata": {
        "colab": {
          "base_uri": "https://localhost:8080/"
        },
        "id": "td_iLwHd7tAC",
        "outputId": "94b11c4e-1919-4c30-c40b-d78c9eb77a38"
      },
      "execution_count": null,
      "outputs": [
        {
          "output_type": "execute_result",
          "data": {
            "text/plain": [
              "25"
            ]
          },
          "metadata": {},
          "execution_count": 121
        }
      ]
    },
    {
      "cell_type": "code",
      "source": [
        "luas_persegi2(9)"
      ],
      "metadata": {
        "colab": {
          "base_uri": "https://localhost:8080/"
        },
        "id": "TLvGT5Xs7veB",
        "outputId": "71071b73-ad9a-4e9f-ed42-dfb9c541c61e"
      },
      "execution_count": null,
      "outputs": [
        {
          "output_type": "execute_result",
          "data": {
            "text/plain": [
              "81"
            ]
          },
          "metadata": {},
          "execution_count": 122
        }
      ]
    },
    {
      "cell_type": "markdown",
      "source": [
        "# B. Iterators"
      ],
      "metadata": {
        "id": "kzx8pCIJ9shL"
      }
    },
    {
      "cell_type": "markdown",
      "source": [
        "## 01 Generators"
      ],
      "metadata": {
        "id": "ySG9S0bH-a4O"
      }
    },
    {
      "cell_type": "code",
      "source": [
        "def warna():\n",
        "  return 'merah'"
      ],
      "metadata": {
        "id": "XSo33H2p7xuy"
      },
      "execution_count": null,
      "outputs": []
    },
    {
      "cell_type": "code",
      "source": [
        "warna()"
      ],
      "metadata": {
        "colab": {
          "base_uri": "https://localhost:8080/",
          "height": 35
        },
        "id": "1CuXj-hM-n5n",
        "outputId": "01ddf086-a359-4782-b878-54d2a6ae0878"
      },
      "execution_count": null,
      "outputs": [
        {
          "output_type": "execute_result",
          "data": {
            "application/vnd.google.colaboratory.intrinsic+json": {
              "type": "string"
            },
            "text/plain": [
              "'merah'"
            ]
          },
          "metadata": {},
          "execution_count": 124
        }
      ]
    },
    {
      "cell_type": "code",
      "source": [
        "def warna():\n",
        "  yield 'merah'\n",
        "  yield 'kuning'\n",
        "  yield 'hijau'"
      ],
      "metadata": {
        "id": "9vlLYt7U-ovW"
      },
      "execution_count": null,
      "outputs": []
    },
    {
      "cell_type": "code",
      "source": [
        "warna_selanjutnya = warna()"
      ],
      "metadata": {
        "id": "fQ-c6yTb-w7v"
      },
      "execution_count": null,
      "outputs": []
    },
    {
      "cell_type": "code",
      "source": [
        "print(next(warna_selanjutnya))"
      ],
      "metadata": {
        "colab": {
          "base_uri": "https://localhost:8080/"
        },
        "id": "0W1UoTPX-3G_",
        "outputId": "288a99d5-3193-43fe-b325-874bed73da26"
      },
      "execution_count": null,
      "outputs": [
        {
          "output_type": "stream",
          "name": "stdout",
          "text": [
            "merah\n"
          ]
        }
      ]
    },
    {
      "cell_type": "code",
      "source": [
        "print(next(warna_selanjutnya))"
      ],
      "metadata": {
        "colab": {
          "base_uri": "https://localhost:8080/"
        },
        "id": "rrhlaMDd-8MG",
        "outputId": "d368acbe-f339-4614-edc5-4977545b40e4"
      },
      "execution_count": null,
      "outputs": [
        {
          "output_type": "stream",
          "name": "stdout",
          "text": [
            "kuning\n"
          ]
        }
      ]
    },
    {
      "cell_type": "code",
      "source": [
        "print(next(warna_selanjutnya))"
      ],
      "metadata": {
        "colab": {
          "base_uri": "https://localhost:8080/"
        },
        "id": "m79LwlzI-9f8",
        "outputId": "8eb3e30a-fd36-4a09-9140-60d82c10f09d"
      },
      "execution_count": null,
      "outputs": [
        {
          "output_type": "stream",
          "name": "stdout",
          "text": [
            "hijau\n"
          ]
        }
      ]
    },
    {
      "cell_type": "code",
      "source": [
        "print(next(warna_selanjutnya))"
      ],
      "metadata": {
        "colab": {
          "base_uri": "https://localhost:8080/",
          "height": 165
        },
        "id": "mPRzZH2U--vk",
        "outputId": "09ef66bc-73b2-47c5-ae54-8c7e687963b5"
      },
      "execution_count": null,
      "outputs": [
        {
          "output_type": "error",
          "ename": "StopIteration",
          "evalue": "ignored",
          "traceback": [
            "\u001b[0;31m---------------------------------------------------------------------------\u001b[0m",
            "\u001b[0;31mStopIteration\u001b[0m                             Traceback (most recent call last)",
            "\u001b[0;32m<ipython-input-130-c9fe424b8ea9>\u001b[0m in \u001b[0;36m<module>\u001b[0;34m()\u001b[0m\n\u001b[0;32m----> 1\u001b[0;31m \u001b[0mprint\u001b[0m\u001b[0;34m(\u001b[0m\u001b[0mnext\u001b[0m\u001b[0;34m(\u001b[0m\u001b[0mwarna_selanjutnya\u001b[0m\u001b[0;34m)\u001b[0m\u001b[0;34m)\u001b[0m\u001b[0;34m\u001b[0m\u001b[0;34m\u001b[0m\u001b[0m\n\u001b[0m",
            "\u001b[0;31mStopIteration\u001b[0m: "
          ]
        }
      ]
    },
    {
      "cell_type": "code",
      "source": [
        ""
      ],
      "metadata": {
        "id": "s2vdvyDM_Ai8"
      },
      "execution_count": null,
      "outputs": []
    },
    {
      "cell_type": "markdown",
      "source": [
        "## 02 Fungsi map()"
      ],
      "metadata": {
        "id": "-dfFJceF_7qE"
      }
    },
    {
      "cell_type": "code",
      "source": [
        "# Kalikan semua item pada daftar bilangan dengan 2:\n",
        "daftar_bil = [4, 5, 9, 2] \n",
        "\n",
        "def hitung(bil):\n",
        "  return bil*2\n",
        "\n",
        "hasil = map(hitung, daftar_bil)"
      ],
      "metadata": {
        "id": "406zWtsw__Y0"
      },
      "execution_count": null,
      "outputs": []
    },
    {
      "cell_type": "code",
      "source": [
        "print(hasil)"
      ],
      "metadata": {
        "colab": {
          "base_uri": "https://localhost:8080/"
        },
        "id": "LP0GRaKtAe0e",
        "outputId": "8efc5504-fe15-4884-d210-112c26460f1e"
      },
      "execution_count": null,
      "outputs": [
        {
          "output_type": "stream",
          "name": "stdout",
          "text": [
            "<map object at 0x7f92b2aaa990>\n"
          ]
        }
      ]
    },
    {
      "cell_type": "code",
      "source": [
        "print(list(hasil))"
      ],
      "metadata": {
        "colab": {
          "base_uri": "https://localhost:8080/"
        },
        "id": "x2_9qQ3XAgDw",
        "outputId": "eb60d35e-3283-4f14-b3d1-a89816c65152"
      },
      "execution_count": null,
      "outputs": [
        {
          "output_type": "stream",
          "name": "stdout",
          "text": [
            "[8, 10, 18, 4]\n"
          ]
        }
      ]
    },
    {
      "cell_type": "code",
      "source": [
        "# menggunakan lambda dan map untuk operasi sederhana\n",
        "\n",
        "daftar_bil2 = [4, 5, 9, 2] \n",
        "\n",
        "hasil2 = map(lambda bil:bil+10, daftar_bil2)"
      ],
      "metadata": {
        "id": "7_89qIQVAkhi"
      },
      "execution_count": null,
      "outputs": []
    },
    {
      "cell_type": "code",
      "source": [
        "print(type(hasil2))"
      ],
      "metadata": {
        "colab": {
          "base_uri": "https://localhost:8080/"
        },
        "id": "4Z5FgUs9BzXk",
        "outputId": "b2ef01cc-1b08-4f62-f849-cb7b14bba9c5"
      },
      "execution_count": null,
      "outputs": [
        {
          "output_type": "stream",
          "name": "stdout",
          "text": [
            "<class 'map'>\n"
          ]
        }
      ]
    },
    {
      "cell_type": "code",
      "source": [
        "print(list(hasil2))"
      ],
      "metadata": {
        "colab": {
          "base_uri": "https://localhost:8080/"
        },
        "id": "0-HLD8JRA1-h",
        "outputId": "f6433bab-6735-4811-f6a0-1cca4baf253a"
      },
      "execution_count": null,
      "outputs": [
        {
          "output_type": "stream",
          "name": "stdout",
          "text": [
            "[14, 15, 19, 12]\n"
          ]
        }
      ]
    },
    {
      "cell_type": "markdown",
      "source": [
        "## 03 Fungsi filter()"
      ],
      "metadata": {
        "id": "zS9FoS-zBCvo"
      }
    },
    {
      "cell_type": "code",
      "source": [
        "daftar_bil3 = [0, 1, 2, 3, 4, 5, 6, 7, 8]\n",
        "\n",
        "def bil_genap(bil):\n",
        "  if bil%2 == 0:\n",
        "    return True\n",
        "  else:\n",
        "    return False\n",
        "\n",
        "hasil3 = filter(bil_genap, daftar_bil3)"
      ],
      "metadata": {
        "id": "8kiRgFF1A3ZF"
      },
      "execution_count": null,
      "outputs": []
    },
    {
      "cell_type": "code",
      "source": [
        "print(type(hasil3))"
      ],
      "metadata": {
        "colab": {
          "base_uri": "https://localhost:8080/"
        },
        "id": "x7nyKCjuBtdR",
        "outputId": "40ed6788-10c1-439d-c6da-27cee5511646"
      },
      "execution_count": null,
      "outputs": [
        {
          "output_type": "stream",
          "name": "stdout",
          "text": [
            "<class 'filter'>\n"
          ]
        }
      ]
    },
    {
      "cell_type": "code",
      "source": [
        "print(list(hasil3))"
      ],
      "metadata": {
        "colab": {
          "base_uri": "https://localhost:8080/"
        },
        "id": "5ku6XKscBmdq",
        "outputId": "ae9ebeda-89b5-4059-8ec7-cfa1cf98083d"
      },
      "execution_count": null,
      "outputs": [
        {
          "output_type": "stream",
          "name": "stdout",
          "text": [
            "[0, 2, 4, 6, 8]\n"
          ]
        }
      ]
    },
    {
      "cell_type": "markdown",
      "source": [
        "# C. String Manipulation"
      ],
      "metadata": {
        "id": "MFbl2rRipFdL"
      }
    },
    {
      "cell_type": "code",
      "source": [
        "string = \"orbit future academy\"\n",
        "\n",
        "print(string.upper())       # huruf kapital\n",
        "print(string.lower())       # huruf kecil\n",
        "print(string.title())       # huruf kapital pada setiap awal kata\n",
        "print(string.capitalize())  # Huruf kapital pada awal kalimat\n",
        "\n",
        "print(string.find('future'))  # mencari karakter / kata\n",
        "\n",
        "print(string.replace('orbit', 'Earth'))\n",
        "\n",
        "print(string.split(' '))"
      ],
      "metadata": {
        "colab": {
          "base_uri": "https://localhost:8080/"
        },
        "id": "0__5pnz9In6H",
        "outputId": "58020f76-e222-438f-9998-d9124ed95334"
      },
      "execution_count": null,
      "outputs": [
        {
          "output_type": "stream",
          "name": "stdout",
          "text": [
            "ORBIT FUTURE ACADEMY\n",
            "orbit future academy\n",
            "Orbit Future Academy\n",
            "Orbit future academy\n",
            "6\n",
            "Earth future academy\n",
            "['orbit', 'future', 'academy']\n"
          ]
        }
      ]
    },
    {
      "cell_type": "code",
      "source": [
        "# string format method\n",
        "\n",
        "# default\n",
        "print('default format: {}, {}, {}'.format('Cahyo', 'Widya', 'Roy'))"
      ],
      "metadata": {
        "colab": {
          "base_uri": "https://localhost:8080/"
        },
        "id": "AXDhJbE8qUe6",
        "outputId": "eaceb43a-808a-4c87-805a-ce8769bc8f05"
      },
      "execution_count": null,
      "outputs": [
        {
          "output_type": "stream",
          "name": "stdout",
          "text": [
            "default format: Cahyo, Widya, Roy\n"
          ]
        }
      ]
    },
    {
      "cell_type": "code",
      "source": [
        "# positonal argument\n",
        "print('default format: {1}, {0}, {2}'.format('Cahyo', 'Widya', 'Roy'))"
      ],
      "metadata": {
        "colab": {
          "base_uri": "https://localhost:8080/"
        },
        "id": "Dz-qDzOKqojJ",
        "outputId": "980a1bae-6340-45ac-a919-4e3c456667dd"
      },
      "execution_count": null,
      "outputs": [
        {
          "output_type": "stream",
          "name": "stdout",
          "text": [
            "default format: Widya, Cahyo, Roy\n"
          ]
        }
      ]
    },
    {
      "cell_type": "code",
      "source": [
        "# keyword argument\n",
        "print('default format: {z}, {x}, {y}'.format(x='Cahyo', y='Widya', z='Roy'))"
      ],
      "metadata": {
        "colab": {
          "base_uri": "https://localhost:8080/"
        },
        "id": "MIp3f4wequxE",
        "outputId": "a1c13eb6-d2c1-4ada-a651-b5a8f9fecd90"
      },
      "execution_count": null,
      "outputs": [
        {
          "output_type": "stream",
          "name": "stdout",
          "text": [
            "default format: Roy, Cahyo, Widya\n"
          ]
        }
      ]
    },
    {
      "cell_type": "markdown",
      "source": [
        "# D. File IO"
      ],
      "metadata": {
        "id": "FPJtbBVfrhxa"
      }
    },
    {
      "cell_type": "code",
      "source": [
        "# Write the data to txt.file\n",
        "\n",
        "with open('write.txt','w') as my_file:                # as itu sebagai alias\n",
        "  my_file.write('Selamat siang, tetap semangat!')"
      ],
      "metadata": {
        "id": "ya0EeY1oq8_n"
      },
      "execution_count": null,
      "outputs": []
    },
    {
      "cell_type": "code",
      "source": [
        "# Append data to file\n",
        "\n",
        "with open('write.txt','a') as my_file:\n",
        "  my_file.write('\\nIni adalah garis baru, tetap semangat karena besok libur!')"
      ],
      "metadata": {
        "id": "NbE1UFIlsNNQ"
      },
      "execution_count": null,
      "outputs": []
    },
    {
      "cell_type": "code",
      "source": [
        "# Read .txt file \n",
        "\n",
        "with open('read_cahyo1.txt','r') as file_cahyo:\n",
        "  isi_file = file_cahyo.read()"
      ],
      "metadata": {
        "id": "JAG6cnf5tVqp"
      },
      "execution_count": null,
      "outputs": []
    },
    {
      "cell_type": "code",
      "source": [
        "isi_file"
      ],
      "metadata": {
        "colab": {
          "base_uri": "https://localhost:8080/",
          "height": 35
        },
        "id": "Sexje8qUs4dF",
        "outputId": "4c4e3ec9-a311-4c17-de89-5e885bd21d7e"
      },
      "execution_count": null,
      "outputs": [
        {
          "output_type": "execute_result",
          "data": {
            "application/vnd.google.colaboratory.intrinsic+json": {
              "type": "string"
            },
            "text/plain": [
              "'Halo from Cahyo'"
            ]
          },
          "metadata": {},
          "execution_count": 12
        }
      ]
    },
    {
      "cell_type": "code",
      "source": [
        "with open('read_cahyo.txt','r') as file_cahyo1:\n",
        "  isi_file1 = file_cahyo1.read()"
      ],
      "metadata": {
        "id": "Sv11iB5suB2k"
      },
      "execution_count": null,
      "outputs": []
    },
    {
      "cell_type": "code",
      "source": [
        "isi_file1"
      ],
      "metadata": {
        "colab": {
          "base_uri": "https://localhost:8080/",
          "height": 35
        },
        "id": "AZjT9_5XuPWt",
        "outputId": "33a20556-8d72-4228-8395-3de42aba0d21"
      },
      "execution_count": null,
      "outputs": [
        {
          "output_type": "execute_result",
          "data": {
            "application/vnd.google.colaboratory.intrinsic+json": {
              "type": "string"
            },
            "text/plain": [
              "'Kuncahyo Setyo Nugroho'"
            ]
          },
          "metadata": {},
          "execution_count": 14
        }
      ]
    },
    {
      "cell_type": "code",
      "source": [
        "# Read data from google drive\n",
        "\n",
        "from google.colab import drive\n",
        "\n",
        "drive.mount('/content/gdrive', force_remount=True)"
      ],
      "metadata": {
        "colab": {
          "base_uri": "https://localhost:8080/"
        },
        "id": "ysO1ZTW1uP4L",
        "outputId": "ef85e48f-cff5-4747-c370-2fd936cafff7"
      },
      "execution_count": null,
      "outputs": [
        {
          "output_type": "stream",
          "name": "stdout",
          "text": [
            "Mounted at /content/gdrive\n"
          ]
        }
      ]
    },
    {
      "cell_type": "code",
      "source": [
        "%cd /content/gdrive/MyDrive/Colab Notebooks"
      ],
      "metadata": {
        "colab": {
          "base_uri": "https://localhost:8080/"
        },
        "id": "nAyG6ss3vBEd",
        "outputId": "d6bd3647-7638-4cc9-d86a-8eb3e674d5ca"
      },
      "execution_count": null,
      "outputs": [
        {
          "output_type": "stream",
          "name": "stdout",
          "text": [
            "/content/gdrive/MyDrive/Colab Notebooks\n"
          ]
        }
      ]
    },
    {
      "cell_type": "code",
      "source": [
        "!ls  # list file pada direktori"
      ],
      "metadata": {
        "colab": {
          "base_uri": "https://localhost:8080/"
        },
        "id": "rX2Db2AQvMFE",
        "outputId": "ec7e71a8-39a6-4597-a85b-f5b80f69db38"
      },
      "execution_count": null,
      "outputs": [
        {
          "output_type": "stream",
          "name": "stdout",
          "text": [
            "'02 03 22.ipynb'\t\t      'Customer Segmentationipynb.ipynb'\n",
            "'04 03 2022.ipynb'\t\t       ini_file_baru.txt\n",
            "'# 1.ipynb'\t\t\t      'Iris Classification.ipynb'\n",
            " Aeroleads-customer-Segmentation.png  'Iris Dataset.png'\n",
            "'Copy of BERT.ipynb'\t\t      'iris flower.jpeg'\n",
            "'Copy of XLNet Masked.ipynb'\t       Untitled0.ipynb\n"
          ]
        }
      ]
    },
    {
      "cell_type": "code",
      "source": [
        "with open('ini_file_baru.txt','r') as f:\n",
        "  file_baru = f.read()"
      ],
      "metadata": {
        "id": "qQX-9vFhuhoq"
      },
      "execution_count": null,
      "outputs": []
    },
    {
      "cell_type": "code",
      "source": [
        "file_baru"
      ],
      "metadata": {
        "colab": {
          "base_uri": "https://localhost:8080/",
          "height": 35
        },
        "id": "JrnPoLyZu7e6",
        "outputId": "f34dacd1-a89e-49d0-95d1-7ec819cb2c32"
      },
      "execution_count": null,
      "outputs": [
        {
          "output_type": "execute_result",
          "data": {
            "application/vnd.google.colaboratory.intrinsic+json": {
              "type": "string"
            },
            "text/plain": [
              "'Kelas Atlas\\nOrbit Future Academy'"
            ]
          },
          "metadata": {},
          "execution_count": 20
        }
      ]
    },
    {
      "cell_type": "code",
      "source": [
        "!wget 'https://raw.githubusercontent.com/meisaputri21/Indonesian-Twitter-Emotion-Dataset/master/Twitter_Emotion_Dataset.csv'"
      ],
      "metadata": {
        "colab": {
          "base_uri": "https://localhost:8080/"
        },
        "id": "grZQQJ2FvTHq",
        "outputId": "a22219ed-1f29-4d21-ca53-bc4d92a71594"
      },
      "execution_count": null,
      "outputs": [
        {
          "output_type": "stream",
          "name": "stdout",
          "text": [
            "--2022-03-04 07:04:44--  https://raw.githubusercontent.com/meisaputri21/Indonesian-Twitter-Emotion-Dataset/master/Twitter_Emotion_Dataset.csv\n",
            "Resolving raw.githubusercontent.com (raw.githubusercontent.com)... 185.199.111.133, 185.199.109.133, 185.199.110.133, ...\n",
            "Connecting to raw.githubusercontent.com (raw.githubusercontent.com)|185.199.111.133|:443... connected.\n",
            "HTTP request sent, awaiting response... 200 OK\n",
            "Length: 840964 (821K) [text/plain]\n",
            "Saving to: ‘Twitter_Emotion_Dataset.csv’\n",
            "\n",
            "Twitter_Emotion_Dat 100%[===================>] 821.25K  --.-KB/s    in 0.02s   \n",
            "\n",
            "2022-03-04 07:04:44 (32.2 MB/s) - ‘Twitter_Emotion_Dataset.csv’ saved [840964/840964]\n",
            "\n"
          ]
        }
      ]
    },
    {
      "cell_type": "code",
      "source": [
        "!ls"
      ],
      "metadata": {
        "colab": {
          "base_uri": "https://localhost:8080/"
        },
        "id": "VEOKqTZtvosh",
        "outputId": "25eed900-1fc4-4779-d326-2793d077e267"
      },
      "execution_count": null,
      "outputs": [
        {
          "output_type": "stream",
          "name": "stdout",
          "text": [
            "'02 03 22.ipynb'\t\t       ini_file_baru.txt\n",
            "'04 03 2022.ipynb'\t\t      'Iris Classification.ipynb'\n",
            "'# 1.ipynb'\t\t\t      'Iris Dataset.png'\n",
            " Aeroleads-customer-Segmentation.png  'iris flower.jpeg'\n",
            "'Copy of BERT.ipynb'\t\t       Twitter_Emotion_Dataset.csv\n",
            "'Copy of XLNet Masked.ipynb'\t       Untitled0.ipynb\n",
            "'Customer Segmentationipynb.ipynb'\n"
          ]
        }
      ]
    },
    {
      "cell_type": "markdown",
      "source": [
        "# E. Exception Handling"
      ],
      "metadata": {
        "id": "uetj1Oenv-y3"
      }
    },
    {
      "cell_type": "code",
      "source": [
        "# Contoh program dengan kesalahan / error\n",
        "\n",
        "x = 5\n",
        "y = 0\n",
        "\n",
        "z = x/y"
      ],
      "metadata": {
        "colab": {
          "base_uri": "https://localhost:8080/",
          "height": 200
        },
        "id": "P57o0wE8vq9J",
        "outputId": "f0d81fd1-9934-467d-c908-6d8e6240a28c"
      },
      "execution_count": null,
      "outputs": [
        {
          "output_type": "error",
          "ename": "ZeroDivisionError",
          "evalue": "ignored",
          "traceback": [
            "\u001b[0;31m---------------------------------------------------------------------------\u001b[0m",
            "\u001b[0;31mZeroDivisionError\u001b[0m                         Traceback (most recent call last)",
            "\u001b[0;32m<ipython-input-23-1be513351d02>\u001b[0m in \u001b[0;36m<module>\u001b[0;34m()\u001b[0m\n\u001b[1;32m      4\u001b[0m \u001b[0my\u001b[0m \u001b[0;34m=\u001b[0m \u001b[0;36m0\u001b[0m\u001b[0;34m\u001b[0m\u001b[0;34m\u001b[0m\u001b[0m\n\u001b[1;32m      5\u001b[0m \u001b[0;34m\u001b[0m\u001b[0m\n\u001b[0;32m----> 6\u001b[0;31m \u001b[0mz\u001b[0m \u001b[0;34m=\u001b[0m \u001b[0mx\u001b[0m\u001b[0;34m/\u001b[0m\u001b[0my\u001b[0m\u001b[0;34m\u001b[0m\u001b[0;34m\u001b[0m\u001b[0m\n\u001b[0m",
            "\u001b[0;31mZeroDivisionError\u001b[0m: division by zero"
          ]
        }
      ]
    },
    {
      "cell_type": "code",
      "source": [
        "bio = {'nama':'Cahyo', 'jurusan':'Informatika'}\n",
        "\n",
        "bio['no_hp']"
      ],
      "metadata": {
        "colab": {
          "base_uri": "https://localhost:8080/",
          "height": 200
        },
        "id": "VSH1N0g1wlXx",
        "outputId": "fb40570c-9695-4590-dff7-5b352088ebd5"
      },
      "execution_count": null,
      "outputs": [
        {
          "output_type": "error",
          "ename": "KeyError",
          "evalue": "ignored",
          "traceback": [
            "\u001b[0;31m---------------------------------------------------------------------------\u001b[0m",
            "\u001b[0;31mKeyError\u001b[0m                                  Traceback (most recent call last)",
            "\u001b[0;32m<ipython-input-24-433075282dfc>\u001b[0m in \u001b[0;36m<module>\u001b[0;34m()\u001b[0m\n\u001b[1;32m      1\u001b[0m \u001b[0mbio\u001b[0m \u001b[0;34m=\u001b[0m \u001b[0;34m{\u001b[0m\u001b[0;34m'nama'\u001b[0m\u001b[0;34m:\u001b[0m\u001b[0;34m'Cahyo'\u001b[0m\u001b[0;34m,\u001b[0m \u001b[0;34m'jurusan'\u001b[0m\u001b[0;34m:\u001b[0m\u001b[0;34m'Informatika'\u001b[0m\u001b[0;34m}\u001b[0m\u001b[0;34m\u001b[0m\u001b[0;34m\u001b[0m\u001b[0m\n\u001b[1;32m      2\u001b[0m \u001b[0;34m\u001b[0m\u001b[0m\n\u001b[0;32m----> 3\u001b[0;31m \u001b[0mbio\u001b[0m\u001b[0;34m[\u001b[0m\u001b[0;34m'no_hp'\u001b[0m\u001b[0;34m]\u001b[0m\u001b[0;34m\u001b[0m\u001b[0;34m\u001b[0m\u001b[0m\n\u001b[0m",
            "\u001b[0;31mKeyError\u001b[0m: 'no_hp'"
          ]
        }
      ]
    },
    {
      "cell_type": "code",
      "source": [
        "x = float(input('Masukkan nilai x: '))\n",
        "y = float(input('Masukkan nilai y: '))\n",
        "\n",
        "hasil = x/y\n",
        "\n",
        "print('Hasil Pembagian x/y = {}'.format(hasil))"
      ],
      "metadata": {
        "colab": {
          "base_uri": "https://localhost:8080/",
          "height": 270
        },
        "id": "mX54EN2mxIQy",
        "outputId": "91d2bd32-2b35-4cc9-ec38-e66eb91a3eda"
      },
      "execution_count": null,
      "outputs": [
        {
          "name": "stdout",
          "output_type": "stream",
          "text": [
            "Masukkan nilai x: 5\n",
            "Masukkan nilai y: 0\n"
          ]
        },
        {
          "output_type": "error",
          "ename": "ZeroDivisionError",
          "evalue": "ignored",
          "traceback": [
            "\u001b[0;31m---------------------------------------------------------------------------\u001b[0m",
            "\u001b[0;31mZeroDivisionError\u001b[0m                         Traceback (most recent call last)",
            "\u001b[0;32m<ipython-input-26-050fec37c5dc>\u001b[0m in \u001b[0;36m<module>\u001b[0;34m()\u001b[0m\n\u001b[1;32m      2\u001b[0m \u001b[0my\u001b[0m \u001b[0;34m=\u001b[0m \u001b[0mfloat\u001b[0m\u001b[0;34m(\u001b[0m\u001b[0minput\u001b[0m\u001b[0;34m(\u001b[0m\u001b[0;34m'Masukkan nilai y: '\u001b[0m\u001b[0;34m)\u001b[0m\u001b[0;34m)\u001b[0m\u001b[0;34m\u001b[0m\u001b[0;34m\u001b[0m\u001b[0m\n\u001b[1;32m      3\u001b[0m \u001b[0;34m\u001b[0m\u001b[0m\n\u001b[0;32m----> 4\u001b[0;31m \u001b[0mhasil\u001b[0m \u001b[0;34m=\u001b[0m \u001b[0mx\u001b[0m\u001b[0;34m/\u001b[0m\u001b[0my\u001b[0m\u001b[0;34m\u001b[0m\u001b[0;34m\u001b[0m\u001b[0m\n\u001b[0m\u001b[1;32m      5\u001b[0m \u001b[0;34m\u001b[0m\u001b[0m\n\u001b[1;32m      6\u001b[0m \u001b[0mprint\u001b[0m\u001b[0;34m(\u001b[0m\u001b[0;34m'Hasil Pembagian x/y = {}'\u001b[0m\u001b[0;34m.\u001b[0m\u001b[0mformat\u001b[0m\u001b[0;34m(\u001b[0m\u001b[0mhasil\u001b[0m\u001b[0;34m)\u001b[0m\u001b[0;34m)\u001b[0m\u001b[0;34m\u001b[0m\u001b[0;34m\u001b[0m\u001b[0m\n",
            "\u001b[0;31mZeroDivisionError\u001b[0m: float division by zero"
          ]
        }
      ]
    },
    {
      "cell_type": "markdown",
      "source": [
        "## 01 Try-Except\n",
        "\n",
        "**syntax dasar:**\n",
        "\n",
        "try :<br>\n",
        "&emsp;# kode yang dapat / mungkin mengandung / terjadi kesalahan<br>\n",
        "except: <br>\n",
        "&emsp;# kode yang dieksekusi jika terdapat kesalahan\n",
        "\n",
        "\n"
      ],
      "metadata": {
        "id": "bY3wBj0Iw_H-"
      }
    },
    {
      "cell_type": "code",
      "source": [
        "try:\n",
        "  x = float(input('Masukkan nilai x: '))\n",
        "  y = float(input('Masukkan nilai y: '))\n",
        "  \n",
        "  hasil = x/y\n",
        "  \n",
        "  print('Hasil Pembagian x/y = {}'.format(hasil))\n",
        "except:\n",
        "  print('Sorry bro, jangan lakukan pembagian dengan NOL. Coba angka lain!')"
      ],
      "metadata": {
        "colab": {
          "base_uri": "https://localhost:8080/"
        },
        "id": "JSCusvPDyMun",
        "outputId": "22857ca4-c429-44b6-9a65-6b987b80456b"
      },
      "execution_count": null,
      "outputs": [
        {
          "output_type": "stream",
          "name": "stdout",
          "text": [
            "Masukkan nilai x: 5\n",
            "Masukkan nilai y: 0\n",
            "Sorry bro, jangan lakukan pembagian dengan NOL. Coba angka lain!\n"
          ]
        }
      ]
    },
    {
      "cell_type": "markdown",
      "source": [
        "## 02 Try-Except-Else\n",
        "\n",
        "**syntax dasar:**\n",
        "\n",
        "try:<br>\n",
        "&emsp;# kode yang dapat / mungkin mengandung / terjadi kesalahan<br>\n",
        "except: <br>\n",
        "&emsp;# kode yang dieksekusi jika terdapat kesalahan<br>\n",
        "else:<br>\n",
        "&emsp;# kode yang dieksekusi jika tidak terdapat kesalahan"
      ],
      "metadata": {
        "id": "v72zzcszy-gP"
      }
    },
    {
      "cell_type": "code",
      "source": [
        "try:\n",
        "  x = float(input('Masukkan nilai x: '))\n",
        "  y = float(input('Masukkan nilai y: '))\n",
        "  \n",
        "  hasil = x/y      # potensi error\n",
        "except:\n",
        "  print('Sorry bro, jangan lakukan pembagian dengan NOL. Coba angka lain!')\n",
        "else:\n",
        "  print('Hasil Pembagian x/y = {}'.format(hasil))"
      ],
      "metadata": {
        "colab": {
          "base_uri": "https://localhost:8080/"
        },
        "id": "XlH8ipeNyfJX",
        "outputId": "3f016f85-2cdc-4beb-93ee-98c2c57fa7c7"
      },
      "execution_count": null,
      "outputs": [
        {
          "output_type": "stream",
          "name": "stdout",
          "text": [
            "Masukkan nilai x: 5\n",
            "Masukkan nilai y: 0\n",
            "Sorry bro, jangan lakukan pembagian dengan NOL. Coba angka lain!\n"
          ]
        }
      ]
    },
    {
      "cell_type": "markdown",
      "source": [
        "# 03. Try-Except-Else-Finally\n",
        "\n",
        "try:<br>\n",
        "&emsp;# kode yang dapat / mungkin mengandung / terjadi kesalahan<br>\n",
        "except: <br>\n",
        "&emsp;# kode yang dieksekusi jika terdapat kesalahan<br>\n",
        "else:<br>\n",
        "&emsp;# kode yang dieksekusi jika tidak terdapat kesalahan<br>\n",
        "finally:<br>\n",
        "&emsp; kode yang selalu akan dijalankan ketika di akhir"
      ],
      "metadata": {
        "id": "zz8vnyI8zli4"
      }
    },
    {
      "cell_type": "code",
      "source": [
        "try:\n",
        "  x = float(input('Masukkan nilai x: '))\n",
        "  y = float(input('Masukkan nilai y: '))\n",
        "  \n",
        "  hasil = x/y      # potensi error\n",
        "except:\n",
        "  print('\\nSorry bro, jangan lakukan pembagian dengan NOL. Coba angka lain!')   # Jika terjadi error\n",
        "else:\n",
        "  print('\\nHasil Pembagian x/y = {}'.format(hasil))                             # Jika tidak terjadi error\n",
        "finally:\n",
        "  print('\\nKamu telah melakukan pembagian {} dengan {}'.format(x,y))            # SELALU dijalankan, baik terjadi error atau tidak"
      ],
      "metadata": {
        "colab": {
          "base_uri": "https://localhost:8080/"
        },
        "id": "HasbZfJvz4hx",
        "outputId": "7b076e3a-1c0e-480f-e913-d4f0d146c8c5"
      },
      "execution_count": null,
      "outputs": [
        {
          "output_type": "stream",
          "name": "stdout",
          "text": [
            "Masukkan nilai x: 8\n",
            "Masukkan nilai y: 0\n",
            "\n",
            "Sorry bro, jangan lakukan pembagian dengan NOL. Coba angka lain!\n",
            "\n",
            "Kamu telah melakukan pembagian 8.0 dengan 0.0\n"
          ]
        }
      ]
    },
    {
      "cell_type": "code",
      "source": [
        ""
      ],
      "metadata": {
        "id": "RU38AGLr0REU"
      },
      "execution_count": null,
      "outputs": []
    }
  ]
}